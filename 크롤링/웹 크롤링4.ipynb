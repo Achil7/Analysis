{
 "cells": [
  {
   "cell_type": "markdown",
   "metadata": {},
   "source": [
    "# 데이터 수집\n",
    "\n",
    "- [프레임셋 전환](http://www.idom.kr/bbs/board.php?bo_table=E_table03&wr_id=125)\n",
    "\n",
    "\n",
    "- [크롤링 태그 찾기](https://desarraigado.tistory.com/14)\n",
    "\n",
    "\n",
    "- [팝업창 제어](https://m.blog.naver.com/tkdtjdtkddms/221976262160)"
   ]
  },
  {
   "cell_type": "markdown",
   "metadata": {},
   "source": [
    "## (1) Web crawling test under the tag of framset"
   ]
  },
  {
   "cell_type": "code",
   "execution_count": 1,
   "metadata": {},
   "outputs": [],
   "source": [
    "import pandas as pd\n",
    "\n",
    "from bs4 import BeautifulSoup\n",
    "from selenium import webdriver"
   ]
  },
  {
   "cell_type": "code",
   "execution_count": 2,
   "metadata": {},
   "outputs": [],
   "source": [
    "url = 'https://www.rm1.co.kr/'"
   ]
  },
  {
   "cell_type": "code",
   "execution_count": 3,
   "metadata": {},
   "outputs": [
    {
     "name": "stderr",
     "output_type": "stream",
     "text": [
      "C:\\Users\\achil\\AppData\\Local\\Temp\\ipykernel_19360\\3780290278.py:2: DeprecationWarning: executable_path has been deprecated, please pass in a Service object\n",
      "  driver = webdriver.Chrome(r\"./chromedriver.exe\")\n"
     ]
    }
   ],
   "source": [
    "# Chrome Webdriver 실행:\n",
    "driver = webdriver.Chrome(r\"./chromedriver.exe\")"
   ]
  },
  {
   "cell_type": "markdown",
   "metadata": {},
   "source": [
    "#### Case 1: "
   ]
  },
  {
   "cell_type": "code",
   "execution_count": 4,
   "metadata": {},
   "outputs": [
    {
     "data": {
      "text/plain": [
       "'<html><head>\\n\\t<meta name=\"google-site-verification\" content=\"uvLrphPZotcDpspdcgkCoo8NypsIGl309A67wMoK0qY\">\\n</head>\\n<frameset rows=\"100%,*\">\\n\\t<frame src=\"/p00/A0001M002.nice\">\\n</frameset>\\n</html>'"
      ]
     },
     "execution_count": 4,
     "metadata": {},
     "output_type": "execute_result"
    }
   ],
   "source": [
    "driver.get(url)\n",
    "html = driver.page_source\n",
    "html"
   ]
  },
  {
   "cell_type": "code",
   "execution_count": 5,
   "metadata": {},
   "outputs": [
    {
     "data": {
      "text/plain": [
       "<html><head>\n",
       "<meta content=\"uvLrphPZotcDpspdcgkCoo8NypsIGl309A67wMoK0qY\" name=\"google-site-verification\"/>\n",
       "</head>\n",
       "<frameset rows=\"100%,*\">\n",
       "<frame src=\"/p00/A0001M002.nice\"/>\n",
       "</frameset>\n",
       "</html>"
      ]
     },
     "execution_count": 5,
     "metadata": {},
     "output_type": "execute_result"
    }
   ],
   "source": [
    "BeautifulSoup(html, 'html.parser')"
   ]
  },
  {
   "cell_type": "markdown",
   "metadata": {},
   "source": [
    "#### Case 2: "
   ]
  },
  {
   "cell_type": "markdown",
   "metadata": {},
   "source": [
    " - frameset 태그"
   ]
  },
  {
   "cell_type": "code",
   "execution_count": 6,
   "metadata": {},
   "outputs": [],
   "source": [
    "url_frame = url + '/p00/A0001M002.nice'"
   ]
  },
  {
   "cell_type": "code",
   "execution_count": 7,
   "metadata": {},
   "outputs": [],
   "source": [
    "driver.get(url_frame)\n",
    "html = driver.page_source"
   ]
  },
  {
   "cell_type": "code",
   "execution_count": 8,
   "metadata": {},
   "outputs": [],
   "source": [
    "# BeautifulSoup(html, 'html.parser')\n",
    "# BeautifulSoup(html, 'lxml')"
   ]
  },
  {
   "cell_type": "markdown",
   "metadata": {},
   "source": [
    "#### Case 3: 개선사례"
   ]
  },
  {
   "cell_type": "code",
   "execution_count": 9,
   "metadata": {},
   "outputs": [
    {
     "data": {
      "text/plain": [
       "'<html><head>\\n\\t<meta name=\"google-site-verification\" content=\"uvLrphPZotcDpspdcgkCoo8NypsIGl309A67wMoK0qY\">\\n</head>\\n<frameset rows=\"100%,*\">\\n\\t<frame src=\"/p00/A0001M002.nice\">\\n</frameset>\\n</html>'"
      ]
     },
     "execution_count": 9,
     "metadata": {},
     "output_type": "execute_result"
    }
   ],
   "source": [
    "driver.get(url)\n",
    "html = driver.page_source; html"
   ]
  },
  {
   "cell_type": "code",
   "execution_count": 10,
   "metadata": {},
   "outputs": [
    {
     "data": {
      "text/plain": [
       "<html><head>\n",
       "<meta content=\"uvLrphPZotcDpspdcgkCoo8NypsIGl309A67wMoK0qY\" name=\"google-site-verification\"/>\n",
       "</head>\n",
       "<frameset rows=\"100%,*\">\n",
       "<frame src=\"/p00/A0001M002.nice\"/>\n",
       "</frameset>\n",
       "</html>"
      ]
     },
     "execution_count": 10,
     "metadata": {},
     "output_type": "execute_result"
    }
   ],
   "source": [
    "soup = BeautifulSoup(html, 'html.parser'); soup\n",
    "#soup_lxml = BeautifulSoup(html, 'lxml'); soup_lxml"
   ]
  },
  {
   "cell_type": "code",
   "execution_count": 11,
   "metadata": {},
   "outputs": [
    {
     "data": {
      "text/plain": [
       "'/p00/A0001M002.nice'"
      ]
     },
     "execution_count": 11,
     "metadata": {},
     "output_type": "execute_result"
    }
   ],
   "source": [
    "# BeautifulSoup(html, 'html.parser').find('frame').get('src')\n",
    "soup.find('frame')\n",
    "soup.find('frame').get('src')"
   ]
  },
  {
   "cell_type": "code",
   "execution_count": 12,
   "metadata": {},
   "outputs": [],
   "source": [
    "url_frame = url + soup.find('frame').get('src')\n",
    "\n",
    "driver.get(url_frame)\n",
    "html = driver.page_source"
   ]
  },
  {
   "cell_type": "code",
   "execution_count": 13,
   "metadata": {},
   "outputs": [],
   "source": [
    "soup = BeautifulSoup(html, 'html.parser'); # soup\n",
    "# soup_lxml = BeautifulSoup(html, 'lxml'); soup_lxml"
   ]
  },
  {
   "cell_type": "markdown",
   "metadata": {},
   "source": [
    "## (2) Tag 찾아보기 : 공지사항 내용 "
   ]
  },
  {
   "cell_type": "code",
   "execution_count": 14,
   "metadata": {},
   "outputs": [
    {
     "data": {
      "text/plain": [
       "<ul>\n",
       "<li><a href=\"javascript:notice('90');\">\n",
       "\t\t\t\t\t\t\t\t\t[중요공지] RM1 서비스가 NICE Bi...\n",
       "\t\t\t\t\t\t\t\t</a><span class=\"date\">\n",
       "\t\t\t\t\t\t\t\t\t2022.11.10\n",
       "\t\t\t\t\t\t\t\t</span></li>\n",
       "<li><a href=\"javascript:notice('89');\">\n",
       "\t\t\t\t\t\t\t\t\t[당첨자 발표] ValueSearch(Ex...\n",
       "\t\t\t\t\t\t\t\t</a><span class=\"date\">\n",
       "\t\t\t\t\t\t\t\t\t2022.10.19\n",
       "\t\t\t\t\t\t\t\t</span></li>\n",
       "</ul>"
      ]
     },
     "execution_count": 14,
     "metadata": {},
     "output_type": "execute_result"
    }
   ],
   "source": [
    "soup.find('div', attrs = {'class': 'board'}).find('ul')"
   ]
  },
  {
   "cell_type": "code",
   "execution_count": 15,
   "metadata": {},
   "outputs": [
    {
     "data": {
      "text/plain": [
       "'\\n\\n\\t\\t\\t\\t\\t\\t\\t\\t\\t[중요공지] RM1 서비스가 NICE Bi...\\n\\t\\t\\t\\t\\t\\t\\t\\t\\n\\t\\t\\t\\t\\t\\t\\t\\t\\t2022.11.10\\n\\t\\t\\t\\t\\t\\t\\t\\t\\n\\n\\t\\t\\t\\t\\t\\t\\t\\t\\t[당첨자 발표] ValueSearch(Ex...\\n\\t\\t\\t\\t\\t\\t\\t\\t\\n\\t\\t\\t\\t\\t\\t\\t\\t\\t2022.10.19\\n\\t\\t\\t\\t\\t\\t\\t\\t\\n'"
      ]
     },
     "execution_count": 15,
     "metadata": {},
     "output_type": "execute_result"
    }
   ],
   "source": [
    "soup.find('div', attrs = {'class': 'board'}).find('ul').getText()"
   ]
  },
  {
   "cell_type": "markdown",
   "metadata": {},
   "source": [
    "#### 불필요한 문자열 제거 :"
   ]
  },
  {
   "cell_type": "code",
   "execution_count": 16,
   "metadata": {},
   "outputs": [
    {
     "data": {
      "text/plain": [
       "'[중요공지] RM1 서비스가 NICE Bi...\\n\\t\\t\\t\\t\\t\\t\\t\\t\\n\\t\\t\\t\\t\\t\\t\\t\\t\\t2022.11.10\\n\\t\\t\\t\\t\\t\\t\\t\\t\\n\\n\\t\\t\\t\\t\\t\\t\\t\\t\\t[당첨자 발표] ValueSearch(Ex...\\n\\t\\t\\t\\t\\t\\t\\t\\t\\n\\t\\t\\t\\t\\t\\t\\t\\t\\t2022.10.19'"
      ]
     },
     "execution_count": 16,
     "metadata": {},
     "output_type": "execute_result"
    }
   ],
   "source": [
    "soup.find('div', attrs = {'class': 'board'}).find('ul').getText().strip('\\n\\t')"
   ]
  },
  {
   "cell_type": "code",
   "execution_count": 17,
   "metadata": {},
   "outputs": [
    {
     "data": {
      "text/plain": [
       "'[중요공지]RM1서비스가NICEBi...2022.11.10[당첨자발표]ValueSearch(Ex...2022.10.19'"
      ]
     },
     "execution_count": 17,
     "metadata": {},
     "output_type": "execute_result"
    }
   ],
   "source": [
    "import re\n",
    "\n",
    "re.sub(r\"[\\n\\t\\s]*\", \"\", soup.find('div', attrs = {'class': 'board'}).find('ul').getText())"
   ]
  },
  {
   "cell_type": "markdown",
   "metadata": {},
   "source": [
    "## (3) 팝업창 Web crawling"
   ]
  },
  {
   "cell_type": "markdown",
   "metadata": {},
   "source": [
    "####  [기업정보/신용정보] 클릭Click 을 통해 새로운 창이 떴을 경우,\n",
    "\n",
    "**1) New window(새창) 으로 Focus 이동:**"
   ]
  },
  {
   "cell_type": "code",
   "execution_count": 18,
   "metadata": {},
   "outputs": [],
   "source": [
    "# posting = driver.find_element_by_xpath('//*[@id=\"main_cont\"]/li[2]/dl/dd[1]')\n",
    "# posting.click()"
   ]
  },
  {
   "cell_type": "code",
   "execution_count": 19,
   "metadata": {},
   "outputs": [],
   "source": [
    "# driver.switch_to_window(driver.window_handles[1])  # [1] : Click 을 통해 띄워지는 New window (새창) 의미\n",
    "### new version\n",
    "driver.switch_to.window(driver.window_handles[1]) # 새로운 창으로 focus를 이동"
   ]
  },
  {
   "cell_type": "markdown",
   "metadata": {},
   "source": [
    "**2) New window 의 html 소스 가져오기**"
   ]
  },
  {
   "cell_type": "code",
   "execution_count": 20,
   "metadata": {
    "scrolled": true
   },
   "outputs": [
    {
     "data": {
      "text/plain": [
       "'<html xmlns=\"http://www.w3.org/1999/xhtml\" lang=\"ko\" xml:lang=\"ko\"><head>\\n<meta http-equiv=\"Content-Type\" content=\"text/html; charset=utf-8\">\\n<meta http-equiv=\"X-UA-Compatible\" content=\"IE=edge\"> \\n<meta http-equiv=\"expires\" content=\"-1\">\\n<title> RM</title>\\n<link rel=\"stylesheet\" type=\"text/css\" media=\"all\" href=\"/common/css/base.css\">\\n<link rel=\"stylesheet\" type=\"text/css\" media=\"all\" href=\"/common/css/layout.css?date=20220221\">\\n<link rel=\"stylesheet\" type=\"text/css\" media=\"all\" href=\"/common/css/module.css?date=20220221\">\\n<link rel=\"stylesheet\" type=\"text/css\" media=\"all\" href=\"/common/css/section_a.css\">\\n<link rel=\"stylesheet\" type=\"text/css\" media=\"all\" href=\"/common/css/section_b.css\">\\n<link rel=\"stylesheet\" type=\"text/css\" media=\"all\" href=\"/common/css/comm.css\">\\n<link rel=\"stylesheet\" type=\"text/css\" media=\"all\" href=\"/common/css/pop.css\">\\n<link rel=\"stylesheet\" type=\"text/css\" media=\"all\" href=\"/common/css/calendar.css\">\\n<link rel=\"stylesheet\" type=\"text/css\" media=\"print\" href=\"/common/css/print.css\">\\n<link rel=\"stylesheet\" type=\"text/css\" media=\"all\" href=\"/common/css/map.css\">\\n<script type=\"text/javascript\">\\n</script>\\n<script type=\"text/javascript\" src=\"/common/js/jquery-1.8.3.js\"></script>\\n<script type=\"text/javascript\" src=\"/common/js/comm.js\"></script>\\n<script type=\"text/javascript\" src=\"/common/js/common.js?date=20220314\"></script>\\n<script type=\"text/javascript\" src=\"/common/js/lgnCommon.js?date=20200423\"></script>\\n<script type=\"text/javascript\" src=\"/common/js/date.js\"></script>\\n<script type=\"text/javascript\" src=\"/common/js/FusionCharts.js\"></script>\\n<script type=\"text/javascript\" src=\"/common/js/ajaxLoad.js\"></script>\\n<script type=\"text/javascript\" src=\"/common/js/jquery.form.js\"></script>\\n<script type=\"text/javascript\" src=\"/common/js/jquery.xml.js\"></script>\\n<script type=\"text/javascript\" src=\"/common/js/jquery.simplemodal-1.4.4.js\"></script>\\n<script type=\"text/javascript\" src=\"/common/js/jquery-ui.min.js\"></script>\\n<script type=\"text/javascript\" src=\"/common/js/jquery.cookie.js\"></script>\\n<script type=\"text/javascript\" src=\"/common/js/customJquery.js\"></script>\\n<script type=\"text/javascript\" src=\"/common/js/certification.js\"></script>\\n<script type=\"text/javascript\" src=\"/common/js/print.js\"></script>\\n<script type=\"text/javascript\" src=\"/common/js/highcharts.js\"></script>\\n <script type=\"text/javascript\" src=\"/common/js/jsencrypt.min.js\"></script>\\n<!-- 16D0106 추가 -->\\n<script type=\"text/javascript\" src=\"/common/js/data.src.js\"></script>\\n<script type=\"text/javascript\">\\n\\t$(document).ready(function()\\t{\\n\\t});\\n\\t$(document).keyup(function (e) {\\n\\t\\n\\t\\tif (e.keyCode == 27) {\\n\\t\\t\\tlayerPopupClose();\\n\\t\\t}\\n\\t});\\t\\n</script>\\n<!-- pop_wrapper_outer -->\\n</head><body><div id=\"pop_wrapper_outer\" style=\"width:850px;height:668px;\">\\n\\t<!-- pop_wrapper-->\\n\\t<div id=\"pop_wrapper\">\\n<script type=\"text/javascript\">\\n\\t$(document).ready(function(){\\n\\t\\tctlSide(\"dp2\",1);\\n\\t});\\n\\t\\n\\tfunction goPage(no){\\n\\t\\tvar url = \"A0901M001.nice\";\\n\\t\\tswitch(no) {\\n\\t\\t    case 1:\\n\\t\\t        url = \"A0901M001.nice?sw=on1\";\\n\\t\\t        break;\\n\\t\\t    case 2:\\n\\t\\t        url = \"A0901M002.nice?sw=on2\";\\n\\t\\t        break;\\n\\t\\t    case 3:\\n\\t\\t        url = \"A0901M003.nice?sw=on3\";\\n\\t\\t        break;\\n\\t\\t    case 4:\\n\\t\\t        url = \"A0901M004.nice?sw=on4\";\\n\\t\\t        break;\\n\\t\\t    case 5:\\n\\t\\t        url = \"A0901M005.nice?sw=on5\";\\n\\t\\t        break;\\n\\t\\t    case 6:\\n\\t\\t        url = \"A0901M006.nice?sw=on6\";\\n\\t\\t        break;\\n\\t\\t    case 7:\\n\\t\\t        url = \"A0901M007.nice?sw=on7\";\\n\\t\\t        break;\\n\\t\\t    case 8:\\n\\t\\t        url = \"A0901M008.nice?sw=on8\";\\n\\t\\t        break;\\n\\t\\t    default:\\n\\t\\t        url = url+\"?sw=on\";\\n\\t\\t}\\n\\t\\t\\n\\t\\tlocation.href=url;\\n\\t}\\n</script>\\n\\n<div class=\"pop_hd\">\\n\\t<h4 class=\"\"><a href=\"javascript:goPage(0);\"><img src=\"/common/images/etc/pop_logo.png\" alt=\"RM1  서비스안내\"></a></h4>\\n\\t<ul class=\"pop_gnb\">\\n\\t\\t<li><a href=\"javascript:goPage(0);\"><img src=\"/common/images/etc/pop_gnb1_off.png\" alt=\"거래처관리\"></a></li>\\n\\t\\t<li><a href=\"javascript:goPage(1);\"><img src=\"/common/images/etc/pop_gnb2_on.png\" alt=\"기업정보\"></a></li>\\n\\t\\t<li><a href=\"javascript:goPage(2);\"><img src=\"/common/images/etc/pop_gnb3_off.png\" alt=\"신용정보\"></a></li>\\n\\t\\t<li><a href=\"javascript:goPage(3);\"><img src=\"/common/images/etc/pop_gnb4_off.png\" alt=\"인물정보\"></a></li>\\n\\t\\t<li><a href=\"javascript:goPage(4);\"><img src=\"/common/images/etc/pop_gnb5_off.png\" alt=\"산업정보\"></a></li>\\n\\t\\t<li><a href=\"javascript:goPage(5);\"><img src=\"/common/images/etc/pop_gnb6_off.png\" alt=\"마케팅정보\"></a></li>\\n\\t\\t<li><a href=\"javascript:goPage(6);\"><img src=\"/common/images/etc/pop_gnb7_off.png\" alt=\"채권회수\"></a></li>\\n\\t\\t<!-- 2016-08-22 st -->\\n\\t\\t<li><a href=\"javascript:goPage(7);\"><img src=\"/common/images/etc/pop_gnb8_off.png\" alt=\"해외기업정보\"></a></li>\\n\\t\\t<li class=\"last\"><a href=\"javascript:goPage(8);\"><img src=\"/common/images/etc/pop_gnb9_off.png\" alt=\"부동산정보\"></a></li>\\n\\t\\t<!-- 2016-08-22 end -->\\n\\t</ul>\\n</div>\\t\\t<div class=\"pop_content\">\\n\\t\\t\\t<div class=\"pop_content_inner\">\\n\\t\\t\\t\\t<img src=\"../common/images/etc/pop_gnb2_desc1.gif\" alt=\"국내 최대의 기업정보 – NICE평가정보 NICE평가정보는 국내 최대인 189만개 기업에 대한 기업정보 및 신용정보, 인물정보를 보유하고 있으며, 최고의 정보가공 노하우를 기반으로 정확하고 신뢰성 있는 기업정보를 온라인 및 오프라인을 통해 제공하고 있습니다. 국내 최고의 공신력과 풍부한 경험, 지식을 갖춘 전문성을 바탕으로 금융기관 및 기업의 정확한 의사결정을 지원하고 있으며 국내 주요 신용공여기관들과의 네트워크를 통해 국내 대표적인 Credit Bureau를 구축하고 있습니다. \">\\n\\t\\t\\t\\t<img class=\"mt20\" src=\"../common/images/etc/pop_gnb2_desc2.gif\" alt=\"기업의 기본정보에서부터 심층분석까지, 신용에 관한 모든 정보 활용을 통한 종합적 부실예측 기업의 개요에서부터 재무정보, 현황정보, 신용 정보, 대표자정보, 산업 정보, 영업현황 등에 대한 신속하고 다양한 정보 분석을 바탕으로 한 부실 관리\">\\n\\t\\t\\t\\t<div class=\"pop_inner_area bbg\">\\n\\t\\t\\t\\t\\t<img class=\"img1\" src=\"../common/images/etc/pop_gnb2_desc3.gif\" alt=\"Management Information 1. C.E.O 1)대표자 신용도, 2) 경영진 변동사항 2. 주주구성, 3. 주주변동, 4. 지분율의 변동, Industry Information 1. 산업 Cycle, 2. 시장점유율, 3. 거래처 매치 서비스를 통한, 시장 경쟁자 확인, 4. 기술변화, 5. 업계 내 주요 ISSUE, 6. 산업 통계치 비교, Business Information 1. 최신 영업현황, 실적확인, 2. 영업 Cycle, 3. 수익성 변화, 4. 특허, 기술력 확인, 5. 영업변동 확인 Finance Information 1. 레버리지 변동, 2. 외부기관의 평가(기업경쟁력 강화 vs  외부 환경변화), 3. 운전자본, 장단기 차입금(자산, 매출액, 영업이익, 당기순이익 등), 4. 신용공여만기구조\">\\n\\t\\t\\t\\t</div>\\n\\t\\t\\t\\t<img class=\"mt10\" src=\"../common/images/etc/pop_gnb2_desc4.gif\" alt=\"거래처 기업의 직관적인 신용판단을 위한 기업 보고서 제공 및 상세 내용 조회  기업일반정보( 개요, 현황, 주주, 관계회사, 거래처정보, 사업현황 등), 기업 재무 정보, 기업 등급정보, 기업신용정보, 기업소송정보, 기업산업정보, 대표자 정보, 여신정보 등 제공\">\\n\\t\\t\\t\\t<div class=\"pop_cont_box_area mt10\">\\n\\t\\t\\t\\t\\t<div class=\"inner_box height\">\\n\\t\\t\\t\\t\\t\\t<p class=\"box_tit\">기업정보 보고서</p>\\n\\t\\t\\t\\t\\t\\t<!-- 2013-03-27 이미지 추가 --><p><img src=\"../common/images/etc/img_a_2_1.jpg\" alt=\"기업정보 보고서\"></p>\\n\\t\\t\\t\\t\\t</div>\\n\\t\\t\\t\\t\\t<div class=\"inner_box mb\">\\n\\t\\t\\t\\t\\t\\t<p class=\"box_tit\">기업 신용 등급 정보</p>\\n\\t\\t\\t\\t\\t\\t<!-- 2013-03-27 이미지 추가 --><p><img src=\"../common/images/etc/img_a_2_2.jpg\" alt=\"기업 신용 등급 정보\"></p>\\t\\n\\t\\t\\t\\t\\t</div>\\n\\t\\t\\t\\t\\t<div class=\"inner_box\">\\n\\t\\t\\t\\t\\t\\t<p class=\"box_tit\">기업 신용 등급 정보</p>\\n\\t\\t\\t\\t\\t\\t<!-- 2013-03-27 이미지 추가 --><p><img src=\"../common/images/etc/img_a_2_3.jpg\" alt=\"기업 신용 등급 정보\"></p>\\t\\n\\t\\t\\t\\t\\t</div>\\n\\t\\t\\t\\t</div>\\n\\t\\t\\t</div>\\n\\n\\t\\t\\t\\n\\t\\t</div>\\n\\t</div>\\n\\t<!-- //pop_wrapper -->\\n</div>\\n<!-- //pop_wrapper_outer --></body></html>'"
      ]
     },
     "execution_count": 20,
     "metadata": {},
     "output_type": "execute_result"
    }
   ],
   "source": [
    "driver.page_source"
   ]
  },
  {
   "cell_type": "markdown",
   "metadata": {},
   "source": [
    "**3) New window 닫기 close**"
   ]
  },
  {
   "cell_type": "code",
   "execution_count": 21,
   "metadata": {},
   "outputs": [],
   "source": [
    "driver.close()"
   ]
  },
  {
   "cell_type": "markdown",
   "metadata": {},
   "source": [
    "**4)원래 Main window 로 Focus 이동**"
   ]
  },
  {
   "cell_type": "code",
   "execution_count": 22,
   "metadata": {},
   "outputs": [],
   "source": [
    "#driver.switch_to_window(driver.window_handles[0])  # [0] : 원래 창(부모), Main window 의미\n",
    "### new version\n",
    "driver.switch_to.window(driver.window_handles[0]) "
   ]
  },
  {
   "cell_type": "code",
   "execution_count": 23,
   "metadata": {},
   "outputs": [],
   "source": [
    "# driver.page_source"
   ]
  },
  {
   "cell_type": "markdown",
   "metadata": {},
   "source": [
    "참고 : [Python Selenium 사용법 [파이썬 셀레늄 사용법, 크롤링]](https://greeksharifa.github.io/references/2020/10/30/python-selenium-usage/)"
   ]
  }
 ],
 "metadata": {
  "kernelspec": {
   "display_name": "Python 3 (ipykernel)",
   "language": "python",
   "name": "python3"
  },
  "language_info": {
   "codemirror_mode": {
    "name": "ipython",
    "version": 3
   },
   "file_extension": ".py",
   "mimetype": "text/x-python",
   "name": "python",
   "nbconvert_exporter": "python",
   "pygments_lexer": "ipython3",
   "version": "3.8.12"
  }
 },
 "nbformat": 4,
 "nbformat_minor": 2
}
