{
 "cells": [
  {
   "cell_type": "markdown",
   "metadata": {},
   "source": [
    "## Today's mission\n",
    "\n",
    "- 웹 데이터 수집 및  Beautiful Soup 리뷰\n",
    "  - 웹 데이터 수집 개념\n",
    "  - 웹 데이터 기본 구조\n",
    "  - 웹 데이터 HTML \n",
    "  - Python 파이썬 관련 라이브러리 : Beautiful Soup\n",
    "  \n",
    "- 실습 (1) google news 검색\n",
    "\n",
    "- 실습 (2) google news 검색 함수 작성"
   ]
  },
  {
   "cell_type": "markdown",
   "metadata": {},
   "source": [
    "### (1) google news 검색\n",
    " - 참고사항 : robots.txt \n",
    "   https://searchadvisor.naver.com/guide/seo-basic-robots\n",
    "\n",
    "- 구글 뉴스(http://news.google.com/) "
   ]
  },
  {
   "cell_type": "markdown",
   "metadata": {},
   "source": [
    "- URL 인코딩으로 한글 >> 유니코드 변환 https://www.convertstring.com/ko/EncodeDecode/UrlEncode"
   ]
  },
  {
   "cell_type": "code",
   "execution_count": 1,
   "metadata": {},
   "outputs": [],
   "source": [
    "# 패키지 import\n",
    "import requests\n",
    "from bs4 import BeautifulSoup"
   ]
  },
  {
   "cell_type": "markdown",
   "metadata": {},
   "source": [
    "#### google news 검색 참고:\n",
    "\n",
    "https://news.google.com/search?q=%EC%BD%94%EB%A1%9C%EB%82%98&hl=ko&gl=KR&ceid=KR%3Ako\n",
    "\n",
    " -> \"https://news.google.com\" + \"/search?q=%EC%BD%94%EB%A1%9C%EB%82%98&hl=ko&gl=KR&ceid=KR%3Ako\"\n",
    " - (검색어: 코로나)"
   ]
  },
  {
   "cell_type": "code",
   "execution_count": 2,
   "metadata": {},
   "outputs": [],
   "source": [
    "# HTML 파일 읽어들이기\n",
    "base_url = \"https://news.google.com\""
   ]
  },
  {
   "cell_type": "code",
   "execution_count": 3,
   "metadata": {},
   "outputs": [
    {
     "name": "stdout",
     "output_type": "stream",
     "text": [
      "https://news.google.com/search?q=%EC%BD%94%EB%A1%9C%EB%82%98&hl=ko&gl=KR&ceid=KR%3Ako\n"
     ]
    }
   ],
   "source": [
    "search_url = \"/search?q=%EC%BD%94%EB%A1%9C%EB%82%98&hl=ko&gl=KR&ceid=KR%3Ako\"\n",
    "url = base_url + search_url\n",
    "print(url)"
   ]
  },
  {
   "cell_type": "code",
   "execution_count": 4,
   "metadata": {},
   "outputs": [
    {
     "data": {
      "text/plain": [
       "<Response [200]>"
      ]
     },
     "execution_count": 4,
     "metadata": {},
     "output_type": "execute_result"
    }
   ],
   "source": [
    "# 검색정보 url GET 방식으로 요청\n",
    "response = requests.get(url)\n",
    "response                     # 200 : 서버 응답 정상\n",
    "                             # 404 : url이 잘못되거나 오류"
   ]
  },
  {
   "cell_type": "code",
   "execution_count": 5,
   "metadata": {},
   "outputs": [],
   "source": [
    "# HTML parser 이용해 soup 객체 생성\n",
    "soup = BeautifulSoup(response.content, 'html.parser') # response.text도 확인\n",
    "# soup"
   ]
  },
  {
   "cell_type": "code",
   "execution_count": 6,
   "metadata": {},
   "outputs": [],
   "source": [
    "# 내부 HTML 전체 구조파악 :\n",
    "## Type1 : soup.find_all('div', class_='xrnccd')[0]\n",
    "## Type2 : soup.select('div.xrnccd')[0]"
   ]
  },
  {
   "cell_type": "code",
   "execution_count": 7,
   "metadata": {},
   "outputs": [
    {
     "name": "stdout",
     "output_type": "stream",
     "text": [
      "100\n"
     ]
    }
   ],
   "source": [
    "news_items = soup.select('div.xrnccd')\n",
    "print(len(news_items))\n",
    "# print(news_items[0])"
   ]
  },
  {
   "cell_type": "code",
   "execution_count": 8,
   "metadata": {},
   "outputs": [
    {
     "data": {
      "text/plain": [
       "<a aria-hidden=\"true\" class=\"VDXfz\" href=\"./articles/CBMiOmh0dHBzOi8vbmV3cy5zYnMuY28ua3IvbmV3cy9lbmRQYWdlLmRvP25ld3NfaWQ9TjEwMDcwMjA0OTnSATdodHRwczovL25ld3Muc2JzLmNvLmtyL2FtcC9uZXdzLmFtcD9uZXdzX2lkPU4xMDA3MDIwNDk5?hl=ko&amp;gl=KR&amp;ceid=KR%3Ako\" jslog=\"95014; 5:W251bGwsbnVsbCxudWxsLG51bGwsbnVsbCxudWxsLG51bGwsbnVsbCwiaHR0cHM6Ly9uZXdzLnNicy5jby5rci9uZXdzL2VuZFBhZ2UuZG8_bmV3c19pZFx1MDAzZE4xMDA3MDIwNDk5Il0=; track:click,vis\" jsname=\"hXwDdf\" tabindex=\"-1\" target=\"_blank\"></a>"
      ]
     },
     "execution_count": 8,
     "metadata": {},
     "output_type": "execute_result"
    }
   ],
   "source": [
    "## 내부HTML 각 내용 구조파악 :\n",
    "## link\n",
    "news_items[1].find('a', attrs={'class':'VDXfz'})"
   ]
  },
  {
   "cell_type": "code",
   "execution_count": 9,
   "metadata": {},
   "outputs": [
    {
     "data": {
      "text/plain": [
       "'./articles/CBMiOmh0dHBzOi8vbmV3cy5zYnMuY28ua3IvbmV3cy9lbmRQYWdlLmRvP25ld3NfaWQ9TjEwMDcwMjA0OTnSATdodHRwczovL25ld3Muc2JzLmNvLmtyL2FtcC9uZXdzLmFtcD9uZXdzX2lkPU4xMDA3MDIwNDk5?hl=ko&gl=KR&ceid=KR%3Ako'"
      ]
     },
     "execution_count": 9,
     "metadata": {},
     "output_type": "execute_result"
    }
   ],
   "source": [
    "news_items[1].find('a', attrs={'class':'VDXfz'}).get('href')"
   ]
  },
  {
   "cell_type": "markdown",
   "metadata": {},
   "source": [
    "##### news_items 에서 각 뉴스의 링크, 제목, 내용, 출처, 등록일시 등 추출\n",
    "- 오류 났을시 직접 사이트에 들어가 F12를 누른 후 찾아보기"
   ]
  },
  {
   "cell_type": "code",
   "execution_count": 10,
   "metadata": {},
   "outputs": [
    {
     "data": {
      "text/plain": [
       "'중국 ‘제로 코로나’의 종말…국경 열고 ‘B급 감염병’ 강등[딥다이브]'"
      ]
     },
     "execution_count": 10,
     "metadata": {},
     "output_type": "execute_result"
    }
   ],
   "source": [
    "## title (제목)\n",
    "news_items[0].find('a', attrs={'class':'DY5T1d'}).text"
   ]
  },
  {
   "cell_type": "code",
   "execution_count": 11,
   "metadata": {},
   "outputs": [
    {
     "data": {
      "text/plain": [
       "'중국 ‘제로 코로나’의 종말…국경 열고 ‘B급 감염병’ 강등[딥다이브]'"
      ]
     },
     "execution_count": 11,
     "metadata": {},
     "output_type": "execute_result"
    }
   ],
   "source": [
    "## content (내용)\n",
    "news_items[0].find('h3', attrs={'class':'ipQwMb ekueJc RD0gLb'}).text"
   ]
  },
  {
   "cell_type": "code",
   "execution_count": 12,
   "metadata": {},
   "outputs": [
    {
     "data": {
      "text/plain": [
       "'동아일보'"
      ]
     },
     "execution_count": 12,
     "metadata": {},
     "output_type": "execute_result"
    }
   ],
   "source": [
    "## register (등록사 : ex. 언론사 이름)\n",
    "news_items[0].find('a', attrs={'class':'wEwyrc AVN2gc WfKKme'}).text"
   ]
  },
  {
   "cell_type": "code",
   "execution_count": 13,
   "metadata": {},
   "outputs": [
    {
     "data": {
      "text/plain": [
       "'9시간 전'"
      ]
     },
     "execution_count": 13,
     "metadata": {},
     "output_type": "execute_result"
    }
   ],
   "source": [
    "## time\n",
    "news_items[0].find('time', attrs={'class':'WW6dff uQIVzc Sksgp slhocf'}).text"
   ]
  },
  {
   "cell_type": "code",
   "execution_count": 14,
   "metadata": {},
   "outputs": [
    {
     "data": {
      "text/plain": [
       "['2022-12-26', '23:01:00Z']"
      ]
     },
     "execution_count": 14,
     "metadata": {},
     "output_type": "execute_result"
    }
   ],
   "source": [
    "## datetime\n",
    "news_items[0].find('time', attrs={'class':'WW6dff uQIVzc Sksgp slhocf'}).text\n",
    "news_items[0].find('time', attrs={'class':'WW6dff uQIVzc Sksgp slhocf'}).get('datetime')\n",
    "news_items[0].find('time', attrs={'class':'WW6dff uQIVzc Sksgp slhocf'}).get('datetime').split('T')"
   ]
  },
  {
   "cell_type": "markdown",
   "metadata": {},
   "source": [
    "### (2) google news 검색 함수 작성\n",
    "\n",
    " - (1)을 활용하여 검색어를 직접 입력하여 구글 뉴스 스크래핑 작성"
   ]
  },
  {
   "cell_type": "code",
   "execution_count": 15,
   "metadata": {},
   "outputs": [],
   "source": [
    "# 패키지 import\n",
    "import requests\n",
    "from bs4 import BeautifulSoup\n",
    "import urllib"
   ]
  },
  {
   "cell_type": "code",
   "execution_count": 16,
   "metadata": {},
   "outputs": [
    {
     "name": "stdout",
     "output_type": "stream",
     "text": [
      "검색어 입력 : IT\n"
     ]
    }
   ],
   "source": [
    "# 찾아볼 뉴스 관련단어 입력\n",
    "# 검색어 요청 :\n",
    "input_word = input('검색어 입력 : ')"
   ]
  },
  {
   "cell_type": "code",
   "execution_count": 17,
   "metadata": {},
   "outputs": [
    {
     "data": {
      "text/plain": [
       "'IT'"
      ]
     },
     "execution_count": 17,
     "metadata": {},
     "output_type": "execute_result"
    }
   ],
   "source": [
    "## Google news 검색어 URL 코드로 encoding\n",
    "urllib.parse.quote(input_word) # URL로 변환시켜줌"
   ]
  },
  {
   "cell_type": "code",
   "execution_count": 18,
   "metadata": {},
   "outputs": [
    {
     "name": "stdout",
     "output_type": "stream",
     "text": [
      "https://news.google.com/search?q=IT&hl=ko&gl=KR&ceid=KR%3Ako\n"
     ]
    }
   ],
   "source": [
    "# 검색어 정보 URL 구성\n",
    "base_url = \"https://news.google.com\"\n",
    "keyword = urllib.parse.quote(input_word)\n",
    "search_url = \"/search?q=\" + keyword + \"&hl=ko&gl=KR&ceid=KR%3Ako\"  # keyword: %EC%BD%94%EB%A1%9C%EB%82%98\n",
    "url = base_url + search_url\n",
    "print(url)"
   ]
  },
  {
   "cell_type": "markdown",
   "metadata": {},
   "source": [
    "##### 검색 함수 생성"
   ]
  },
  {
   "cell_type": "code",
   "execution_count": 19,
   "metadata": {},
   "outputs": [],
   "source": [
    "def google_news_clipping_keyword(keyword_input):\n",
    "    base_url = \"https://news.google.com\"\n",
    "    keyword = urllib.parse.quote(keyword_input)\n",
    "    search_url = \"/search?q=\" + keyword + \"&hl=ko&gl=KR&ceid=KR%3Ako\"  # keyword: %EC%BD%94%EB%A1%9C%EB%82%98\n",
    "    url = base_url + search_url\n",
    "    \n",
    "    return url"
   ]
  },
  {
   "cell_type": "code",
   "execution_count": 20,
   "metadata": {},
   "outputs": [
    {
     "name": "stdout",
     "output_type": "stream",
     "text": [
      "검색어를 입력하세요: IT\n"
     ]
    }
   ],
   "source": [
    "# 함수를 실행하여 뉴스 목록 정리\n",
    "# 찾아볼 뉴스 관련단어 입력\n",
    "search_word = input(\"검색어를 입력하세요: \")"
   ]
  },
  {
   "cell_type": "code",
   "execution_count": 21,
   "metadata": {},
   "outputs": [
    {
     "name": "stdout",
     "output_type": "stream",
     "text": [
      "https://news.google.com/search?q=IT&hl=ko&gl=KR&ceid=KR%3Ako\n"
     ]
    }
   ],
   "source": [
    "news = google_news_clipping_keyword(search_word)\n",
    "\n",
    "print(news)"
   ]
  }
 ],
 "metadata": {
  "kernelspec": {
   "display_name": "Python 3 (ipykernel)",
   "language": "python",
   "name": "python3"
  },
  "language_info": {
   "codemirror_mode": {
    "name": "ipython",
    "version": 3
   },
   "file_extension": ".py",
   "mimetype": "text/x-python",
   "name": "python",
   "nbconvert_exporter": "python",
   "pygments_lexer": "ipython3",
   "version": "3.8.12"
  }
 },
 "nbformat": 4,
 "nbformat_minor": 2
}
