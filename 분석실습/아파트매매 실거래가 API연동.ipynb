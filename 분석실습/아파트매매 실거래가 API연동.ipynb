{
 "cells": [
  {
   "cell_type": "markdown",
   "metadata": {},
   "source": [
    "##  (공공데이터분석) 국토부 아파트매매 실거래가 API 연동\n",
    "\n",
    "#### XML 국토교통부 아파트매매 실거래자료 : https://www.data.go.kr/data/15058747/openapi.do\n",
    "\n",
    "#### 행정표준관리시스템 : https://www.code.go.kr/index.do\n",
    "#### ( [메뉴] 자주이용하는 코드 > 법정동 > 법정동 코드 전체자료 다운로드)"
   ]
  },
  {
   "cell_type": "code",
   "execution_count": 1,
   "metadata": {},
   "outputs": [],
   "source": [
    "import pandas as pd\n",
    "import requests\n",
    "from bs4 import BeautifulSoup"
   ]
  },
  {
   "cell_type": "markdown",
   "metadata": {},
   "source": [
    "##### 데이터 로드"
   ]
  },
  {
   "cell_type": "code",
   "execution_count": 2,
   "metadata": {},
   "outputs": [],
   "source": [
    "base_url = \"http://openapi.molit.go.kr:8081/OpenAPI_ToolInstallPackage/service/rest/RTMSOBJSvc/getRTMSDataSvcAptTrade\""
   ]
  },
  {
   "cell_type": "code",
   "execution_count": 3,
   "metadata": {},
   "outputs": [],
   "source": [
    "area_cd = \"LAWD_CD=\" + \"11680\"    # 11680 : 강남구\n",
    "deal_dt = \"DEAL_YMD=\" + \"201912\"\n",
    "svc_key = \"serviceKey=\" + \"fq448BTENSGVmu47zvzjDudVK1LUOPdIONYmOk774uKTYukGYTIZdMjVIURNLrwHFbDrRgCZRXehyB%2FR2YxQ5A%3D%3D\""
   ]
  },
  {
   "cell_type": "code",
   "execution_count": 4,
   "metadata": {},
   "outputs": [
    {
     "data": {
      "text/plain": [
       "'http://openapi.molit.go.kr:8081/OpenAPI_ToolInstallPackage/service/rest/RTMSOBJSvc/getRTMSDataSvcAptTrade?LAWD_CD=11680&DEAL_YMD=201912&serviceKey=fq448BTENSGVmu47zvzjDudVK1LUOPdIONYmOk774uKTYukGYTIZdMjVIURNLrwHFbDrRgCZRXehyB%2FR2YxQ5A%3D%3D'"
      ]
     },
     "execution_count": 4,
     "metadata": {},
     "output_type": "execute_result"
    }
   ],
   "source": [
    "url = base_url + \"?\" + area_cd + \"&\" + deal_dt + \"&\" + svc_key\n",
    "url"
   ]
  },
  {
   "cell_type": "code",
   "execution_count": 5,
   "metadata": {},
   "outputs": [
    {
     "data": {
      "text/plain": [
       "<Response [200]>"
      ]
     },
     "execution_count": 5,
     "metadata": {},
     "output_type": "execute_result"
    }
   ],
   "source": [
    "response = requests.get(url)\n",
    "response"
   ]
  },
  {
   "cell_type": "code",
   "execution_count": 6,
   "metadata": {},
   "outputs": [],
   "source": [
    "# response.text"
   ]
  },
  {
   "cell_type": "markdown",
   "metadata": {},
   "source": [
    "##### 법정동 코드(지역코드) 가공"
   ]
  },
  {
   "cell_type": "code",
   "execution_count": 7,
   "metadata": {},
   "outputs": [
    {
     "data": {
      "text/html": [
       "<div>\n",
       "<style scoped>\n",
       "    .dataframe tbody tr th:only-of-type {\n",
       "        vertical-align: middle;\n",
       "    }\n",
       "\n",
       "    .dataframe tbody tr th {\n",
       "        vertical-align: top;\n",
       "    }\n",
       "\n",
       "    .dataframe thead th {\n",
       "        text-align: right;\n",
       "    }\n",
       "</style>\n",
       "<table border=\"1\" class=\"dataframe\">\n",
       "  <thead>\n",
       "    <tr style=\"text-align: right;\">\n",
       "      <th></th>\n",
       "      <th>법정동코드</th>\n",
       "      <th>법정동명</th>\n",
       "      <th>폐지여부</th>\n",
       "    </tr>\n",
       "  </thead>\n",
       "  <tbody>\n",
       "    <tr>\n",
       "      <th>0</th>\n",
       "      <td>1100000000</td>\n",
       "      <td>서울특별시</td>\n",
       "      <td>존재</td>\n",
       "    </tr>\n",
       "    <tr>\n",
       "      <th>1</th>\n",
       "      <td>1111000000</td>\n",
       "      <td>서울특별시 종로구</td>\n",
       "      <td>존재</td>\n",
       "    </tr>\n",
       "    <tr>\n",
       "      <th>2</th>\n",
       "      <td>1111010100</td>\n",
       "      <td>서울특별시 종로구 청운동</td>\n",
       "      <td>존재</td>\n",
       "    </tr>\n",
       "    <tr>\n",
       "      <th>3</th>\n",
       "      <td>1111010200</td>\n",
       "      <td>서울특별시 종로구 신교동</td>\n",
       "      <td>존재</td>\n",
       "    </tr>\n",
       "    <tr>\n",
       "      <th>4</th>\n",
       "      <td>1111010300</td>\n",
       "      <td>서울특별시 종로구 궁정동</td>\n",
       "      <td>존재</td>\n",
       "    </tr>\n",
       "    <tr>\n",
       "      <th>...</th>\n",
       "      <td>...</td>\n",
       "      <td>...</td>\n",
       "      <td>...</td>\n",
       "    </tr>\n",
       "    <tr>\n",
       "      <th>46287</th>\n",
       "      <td>5013032022</td>\n",
       "      <td>제주특별자치도 서귀포시 표선면 하천리</td>\n",
       "      <td>존재</td>\n",
       "    </tr>\n",
       "    <tr>\n",
       "      <th>46288</th>\n",
       "      <td>5013032023</td>\n",
       "      <td>제주특별자치도 서귀포시 표선면 성읍리</td>\n",
       "      <td>존재</td>\n",
       "    </tr>\n",
       "    <tr>\n",
       "      <th>46289</th>\n",
       "      <td>5013032024</td>\n",
       "      <td>제주특별자치도 서귀포시 표선면 가시리</td>\n",
       "      <td>존재</td>\n",
       "    </tr>\n",
       "    <tr>\n",
       "      <th>46290</th>\n",
       "      <td>5013032025</td>\n",
       "      <td>제주특별자치도 서귀포시 표선면 세화리</td>\n",
       "      <td>존재</td>\n",
       "    </tr>\n",
       "    <tr>\n",
       "      <th>46291</th>\n",
       "      <td>5013032026</td>\n",
       "      <td>제주특별자치도 서귀포시 표선면 토산리</td>\n",
       "      <td>존재</td>\n",
       "    </tr>\n",
       "  </tbody>\n",
       "</table>\n",
       "<p>46292 rows × 3 columns</p>\n",
       "</div>"
      ],
      "text/plain": [
       "            법정동코드                  법정동명 폐지여부\n",
       "0      1100000000                 서울특별시   존재\n",
       "1      1111000000             서울특별시 종로구   존재\n",
       "2      1111010100         서울특별시 종로구 청운동   존재\n",
       "3      1111010200         서울특별시 종로구 신교동   존재\n",
       "4      1111010300         서울특별시 종로구 궁정동   존재\n",
       "...           ...                   ...  ...\n",
       "46287  5013032022  제주특별자치도 서귀포시 표선면 하천리   존재\n",
       "46288  5013032023  제주특별자치도 서귀포시 표선면 성읍리   존재\n",
       "46289  5013032024  제주특별자치도 서귀포시 표선면 가시리   존재\n",
       "46290  5013032025  제주특별자치도 서귀포시 표선면 세화리   존재\n",
       "46291  5013032026  제주특별자치도 서귀포시 표선면 토산리   존재\n",
       "\n",
       "[46292 rows x 3 columns]"
      ]
     },
     "execution_count": 7,
     "metadata": {},
     "output_type": "execute_result"
    }
   ],
   "source": [
    "lawd_cd = pd.read_csv(\"data/법정동코드_전체자료.txt\", sep='\\t', encoding ='cp949') # encoding : 'euc-kr', 'utf-8'\n",
    "lawd_cd"
   ]
  },
  {
   "cell_type": "code",
   "execution_count": 8,
   "metadata": {},
   "outputs": [
    {
     "name": "stdout",
     "output_type": "stream",
     "text": [
      "Index(['법정동코드', '법정동명', '폐지여부'], dtype='object')\n"
     ]
    },
    {
     "data": {
      "text/html": [
       "<div>\n",
       "<style scoped>\n",
       "    .dataframe tbody tr th:only-of-type {\n",
       "        vertical-align: middle;\n",
       "    }\n",
       "\n",
       "    .dataframe tbody tr th {\n",
       "        vertical-align: top;\n",
       "    }\n",
       "\n",
       "    .dataframe thead th {\n",
       "        text-align: right;\n",
       "    }\n",
       "</style>\n",
       "<table border=\"1\" class=\"dataframe\">\n",
       "  <thead>\n",
       "    <tr style=\"text-align: right;\">\n",
       "      <th></th>\n",
       "      <th>code</th>\n",
       "      <th>name</th>\n",
       "      <th>check</th>\n",
       "    </tr>\n",
       "  </thead>\n",
       "  <tbody>\n",
       "    <tr>\n",
       "      <th>0</th>\n",
       "      <td>1100000000</td>\n",
       "      <td>서울특별시</td>\n",
       "      <td>존재</td>\n",
       "    </tr>\n",
       "    <tr>\n",
       "      <th>1</th>\n",
       "      <td>1111000000</td>\n",
       "      <td>서울특별시 종로구</td>\n",
       "      <td>존재</td>\n",
       "    </tr>\n",
       "    <tr>\n",
       "      <th>2</th>\n",
       "      <td>1111010100</td>\n",
       "      <td>서울특별시 종로구 청운동</td>\n",
       "      <td>존재</td>\n",
       "    </tr>\n",
       "    <tr>\n",
       "      <th>3</th>\n",
       "      <td>1111010200</td>\n",
       "      <td>서울특별시 종로구 신교동</td>\n",
       "      <td>존재</td>\n",
       "    </tr>\n",
       "    <tr>\n",
       "      <th>4</th>\n",
       "      <td>1111010300</td>\n",
       "      <td>서울특별시 종로구 궁정동</td>\n",
       "      <td>존재</td>\n",
       "    </tr>\n",
       "    <tr>\n",
       "      <th>...</th>\n",
       "      <td>...</td>\n",
       "      <td>...</td>\n",
       "      <td>...</td>\n",
       "    </tr>\n",
       "    <tr>\n",
       "      <th>46287</th>\n",
       "      <td>5013032022</td>\n",
       "      <td>제주특별자치도 서귀포시 표선면 하천리</td>\n",
       "      <td>존재</td>\n",
       "    </tr>\n",
       "    <tr>\n",
       "      <th>46288</th>\n",
       "      <td>5013032023</td>\n",
       "      <td>제주특별자치도 서귀포시 표선면 성읍리</td>\n",
       "      <td>존재</td>\n",
       "    </tr>\n",
       "    <tr>\n",
       "      <th>46289</th>\n",
       "      <td>5013032024</td>\n",
       "      <td>제주특별자치도 서귀포시 표선면 가시리</td>\n",
       "      <td>존재</td>\n",
       "    </tr>\n",
       "    <tr>\n",
       "      <th>46290</th>\n",
       "      <td>5013032025</td>\n",
       "      <td>제주특별자치도 서귀포시 표선면 세화리</td>\n",
       "      <td>존재</td>\n",
       "    </tr>\n",
       "    <tr>\n",
       "      <th>46291</th>\n",
       "      <td>5013032026</td>\n",
       "      <td>제주특별자치도 서귀포시 표선면 토산리</td>\n",
       "      <td>존재</td>\n",
       "    </tr>\n",
       "  </tbody>\n",
       "</table>\n",
       "<p>46292 rows × 3 columns</p>\n",
       "</div>"
      ],
      "text/plain": [
       "             code                  name check\n",
       "0      1100000000                 서울특별시    존재\n",
       "1      1111000000             서울특별시 종로구    존재\n",
       "2      1111010100         서울특별시 종로구 청운동    존재\n",
       "3      1111010200         서울특별시 종로구 신교동    존재\n",
       "4      1111010300         서울특별시 종로구 궁정동    존재\n",
       "...           ...                   ...   ...\n",
       "46287  5013032022  제주특별자치도 서귀포시 표선면 하천리    존재\n",
       "46288  5013032023  제주특별자치도 서귀포시 표선면 성읍리    존재\n",
       "46289  5013032024  제주특별자치도 서귀포시 표선면 가시리    존재\n",
       "46290  5013032025  제주특별자치도 서귀포시 표선면 세화리    존재\n",
       "46291  5013032026  제주특별자치도 서귀포시 표선면 토산리    존재\n",
       "\n",
       "[46292 rows x 3 columns]"
      ]
     },
     "execution_count": 8,
     "metadata": {},
     "output_type": "execute_result"
    }
   ],
   "source": [
    "# 데이터 조작 편의성을 위한 Column 이름 변경\n",
    "print(lawd_cd.columns)\n",
    "lawd_cd.columns = [\"code\", \"name\", \"check\"] # Column 이름이 한글이면 코딩시 불편함\n",
    "lawd_cd"
   ]
  },
  {
   "cell_type": "code",
   "execution_count": 9,
   "metadata": {},
   "outputs": [
    {
     "name": "stdout",
     "output_type": "stream",
     "text": [
      "<class 'pandas.core.frame.DataFrame'>\n",
      "RangeIndex: 46292 entries, 0 to 46291\n",
      "Data columns (total 3 columns):\n",
      " #   Column  Non-Null Count  Dtype \n",
      "---  ------  --------------  ----- \n",
      " 0   code    46292 non-null  int64 \n",
      " 1   name    46292 non-null  object\n",
      " 2   check   46292 non-null  object\n",
      "dtypes: int64(1), object(2)\n",
      "memory usage: 1.1+ MB\n"
     ]
    }
   ],
   "source": [
    "lawd_cd.info()"
   ]
  },
  {
   "cell_type": "code",
   "execution_count": 10,
   "metadata": {},
   "outputs": [
    {
     "data": {
      "text/html": [
       "<div>\n",
       "<style scoped>\n",
       "    .dataframe tbody tr th:only-of-type {\n",
       "        vertical-align: middle;\n",
       "    }\n",
       "\n",
       "    .dataframe tbody tr th {\n",
       "        vertical-align: top;\n",
       "    }\n",
       "\n",
       "    .dataframe thead th {\n",
       "        text-align: right;\n",
       "    }\n",
       "</style>\n",
       "<table border=\"1\" class=\"dataframe\">\n",
       "  <thead>\n",
       "    <tr style=\"text-align: right;\">\n",
       "      <th></th>\n",
       "      <th>code</th>\n",
       "      <th>name</th>\n",
       "      <th>check</th>\n",
       "    </tr>\n",
       "  </thead>\n",
       "  <tbody>\n",
       "    <tr>\n",
       "      <th>1</th>\n",
       "      <td>1111000000</td>\n",
       "      <td>서울특별시 종로구</td>\n",
       "      <td>존재</td>\n",
       "    </tr>\n",
       "    <tr>\n",
       "      <th>2</th>\n",
       "      <td>1111010100</td>\n",
       "      <td>서울특별시 종로구 청운동</td>\n",
       "      <td>존재</td>\n",
       "    </tr>\n",
       "    <tr>\n",
       "      <th>3</th>\n",
       "      <td>1111010200</td>\n",
       "      <td>서울특별시 종로구 신교동</td>\n",
       "      <td>존재</td>\n",
       "    </tr>\n",
       "    <tr>\n",
       "      <th>4</th>\n",
       "      <td>1111010300</td>\n",
       "      <td>서울특별시 종로구 궁정동</td>\n",
       "      <td>존재</td>\n",
       "    </tr>\n",
       "    <tr>\n",
       "      <th>5</th>\n",
       "      <td>1111010400</td>\n",
       "      <td>서울특별시 종로구 효자동</td>\n",
       "      <td>존재</td>\n",
       "    </tr>\n",
       "    <tr>\n",
       "      <th>...</th>\n",
       "      <td>...</td>\n",
       "      <td>...</td>\n",
       "      <td>...</td>\n",
       "    </tr>\n",
       "    <tr>\n",
       "      <th>84</th>\n",
       "      <td>1111018300</td>\n",
       "      <td>서울특별시 종로구 평창동</td>\n",
       "      <td>존재</td>\n",
       "    </tr>\n",
       "    <tr>\n",
       "      <th>85</th>\n",
       "      <td>1111018400</td>\n",
       "      <td>서울특별시 종로구 부암동</td>\n",
       "      <td>존재</td>\n",
       "    </tr>\n",
       "    <tr>\n",
       "      <th>86</th>\n",
       "      <td>1111018500</td>\n",
       "      <td>서울특별시 종로구 홍지동</td>\n",
       "      <td>존재</td>\n",
       "    </tr>\n",
       "    <tr>\n",
       "      <th>87</th>\n",
       "      <td>1111018600</td>\n",
       "      <td>서울특별시 종로구 신영동</td>\n",
       "      <td>존재</td>\n",
       "    </tr>\n",
       "    <tr>\n",
       "      <th>88</th>\n",
       "      <td>1111018700</td>\n",
       "      <td>서울특별시 종로구 무악동</td>\n",
       "      <td>존재</td>\n",
       "    </tr>\n",
       "  </tbody>\n",
       "</table>\n",
       "<p>88 rows × 3 columns</p>\n",
       "</div>"
      ],
      "text/plain": [
       "          code           name check\n",
       "1   1111000000      서울특별시 종로구    존재\n",
       "2   1111010100  서울특별시 종로구 청운동    존재\n",
       "3   1111010200  서울특별시 종로구 신교동    존재\n",
       "4   1111010300  서울특별시 종로구 궁정동    존재\n",
       "5   1111010400  서울특별시 종로구 효자동    존재\n",
       "..         ...            ...   ...\n",
       "84  1111018300  서울특별시 종로구 평창동    존재\n",
       "85  1111018400  서울특별시 종로구 부암동    존재\n",
       "86  1111018500  서울특별시 종로구 홍지동    존재\n",
       "87  1111018600  서울특별시 종로구 신영동    존재\n",
       "88  1111018700  서울특별시 종로구 무악동    존재\n",
       "\n",
       "[88 rows x 3 columns]"
      ]
     },
     "execution_count": 10,
     "metadata": {},
     "output_type": "execute_result"
    }
   ],
   "source": [
    "in_name = \"종로구\"\n",
    "tmp = lawd_cd[(lawd_cd['name'].str.contains(in_name)) & (lawd_cd['check'] == \"존재\")]#.head(1)\n",
    "tmp"
   ]
  },
  {
   "cell_type": "code",
   "execution_count": 11,
   "metadata": {},
   "outputs": [
    {
     "data": {
      "text/plain": [
       "'11110'"
      ]
     },
     "execution_count": 11,
     "metadata": {},
     "output_type": "execute_result"
    }
   ],
   "source": [
    "tmp = tmp.iloc[0,0]\n",
    "str(tmp)\n",
    "tmp = tmp.astype(str)\n",
    "tmp[0:5]"
   ]
  },
  {
   "cell_type": "code",
   "execution_count": 12,
   "metadata": {},
   "outputs": [
    {
     "data": {
      "text/plain": [
       "'11110'"
      ]
     },
     "execution_count": 12,
     "metadata": {},
     "output_type": "execute_result"
    }
   ],
   "source": [
    "# 위를 정리\n",
    "lawd_cd[(lawd_cd['name'].str.contains(in_name)) & (lawd_cd['check'] == \"존재\")].head(1).iloc[0,0].astype(str)[0:5]"
   ]
  },
  {
   "cell_type": "code",
   "execution_count": 13,
   "metadata": {},
   "outputs": [],
   "source": [
    "# 함수 생성 :\n",
    "def find_lawd_cd(in_text):\n",
    "    return lawd_cd[(lawd_cd['name'].str.contains(in_text)) & (lawd_cd['check'] == \"존재\")].head(1).iloc[0,0].astype(str)[0:5]"
   ]
  },
  {
   "cell_type": "code",
   "execution_count": 14,
   "metadata": {},
   "outputs": [
    {
     "data": {
      "text/plain": [
       "'11680'"
      ]
     },
     "execution_count": 14,
     "metadata": {},
     "output_type": "execute_result"
    }
   ],
   "source": [
    "in_name = \"강남구\"\n",
    "find_lawd_cd(in_name)"
   ]
  },
  {
   "cell_type": "markdown",
   "metadata": {},
   "source": [
    "##### 데이터 값 직접 입력"
   ]
  },
  {
   "cell_type": "code",
   "execution_count": 15,
   "metadata": {},
   "outputs": [
    {
     "name": "stdout",
     "output_type": "stream",
     "text": [
      "검색지역 입력(예: 강남구) : 서북구\n"
     ]
    }
   ],
   "source": [
    "in_lawd = input(\"검색지역 입력(예: 강남구) : \")"
   ]
  },
  {
   "cell_type": "code",
   "execution_count": 16,
   "metadata": {},
   "outputs": [
    {
     "name": "stdout",
     "output_type": "stream",
     "text": [
      "계약월 입력(예: 201912) : 202212\n"
     ]
    }
   ],
   "source": [
    "in_deal_ymd = input(\"계약월 입력(예: 201912) : \")"
   ]
  },
  {
   "cell_type": "code",
   "execution_count": 17,
   "metadata": {},
   "outputs": [],
   "source": [
    "in_svckey = \"fq448BTENSGVmu47zvzjDudVK1LUOPdIONYmOk774uKTYukGYTIZdMjVIURNLrwHFbDrRgCZRXehyB%2FR2YxQ5A%3D%3D\""
   ]
  },
  {
   "cell_type": "code",
   "execution_count": 18,
   "metadata": {},
   "outputs": [
    {
     "data": {
      "text/plain": [
       "'44133'"
      ]
     },
     "execution_count": 18,
     "metadata": {},
     "output_type": "execute_result"
    }
   ],
   "source": [
    "in_lawd_cd = find_lawd_cd(in_lawd)\n",
    "in_lawd_cd"
   ]
  },
  {
   "cell_type": "code",
   "execution_count": 19,
   "metadata": {},
   "outputs": [],
   "source": [
    "area_cd = \"LAWD_CD=\" + in_lawd_cd\n",
    "deal_dt = \"DEAL_YMD=\" + in_deal_ymd\n",
    "svc_key = \"serviceKey=\" + in_svckey"
   ]
  },
  {
   "cell_type": "code",
   "execution_count": 20,
   "metadata": {},
   "outputs": [
    {
     "data": {
      "text/plain": [
       "'http://openapi.molit.go.kr:8081/OpenAPI_ToolInstallPackage/service/rest/RTMSOBJSvc/getRTMSDataSvcAptTrade?LAWD_CD=44133&DEAL_YMD=202212&serviceKey=fq448BTENSGVmu47zvzjDudVK1LUOPdIONYmOk774uKTYukGYTIZdMjVIURNLrwHFbDrRgCZRXehyB%2FR2YxQ5A%3D%3D'"
      ]
     },
     "execution_count": 20,
     "metadata": {},
     "output_type": "execute_result"
    }
   ],
   "source": [
    "url = base_url + \"?\" + area_cd + \"&\" + deal_dt + \"&\" + svc_key\n",
    "url"
   ]
  },
  {
   "cell_type": "code",
   "execution_count": 21,
   "metadata": {},
   "outputs": [
    {
     "data": {
      "text/plain": [
       "<Response [200]>"
      ]
     },
     "execution_count": 21,
     "metadata": {},
     "output_type": "execute_result"
    }
   ],
   "source": [
    "response = requests.get(url)\n",
    "response"
   ]
  },
  {
   "cell_type": "markdown",
   "metadata": {},
   "source": [
    "##### 데이터 전처리 (web data / API output)"
   ]
  },
  {
   "cell_type": "code",
   "execution_count": 22,
   "metadata": {},
   "outputs": [
    {
     "name": "stderr",
     "output_type": "stream",
     "text": [
      "C:\\ProgramData\\Anaconda3\\lib\\site-packages\\bs4\\builder\\__init__.py:545: XMLParsedAsHTMLWarning: It looks like you're parsing an XML document using an HTML parser. If this really is an HTML document (maybe it's XHTML?), you can ignore or filter this warning. If it's XML, you should know that using an XML parser will be more reliable. To parse this document as XML, make sure you have the lxml package installed, and pass the keyword argument `features=\"xml\"` into the BeautifulSoup constructor.\n",
      "  warnings.warn(\n"
     ]
    }
   ],
   "source": [
    "soup = BeautifulSoup(response.text, \"lxml\")\n",
    "# soup"
   ]
  },
  {
   "cell_type": "code",
   "execution_count": 23,
   "metadata": {},
   "outputs": [],
   "source": [
    "# soup.find_all('item')"
   ]
  },
  {
   "cell_type": "code",
   "execution_count": 24,
   "metadata": {},
   "outputs": [
    {
     "data": {
      "text/plain": [
       "{'거래금액': '41,000',\n",
       " '거래유형': '중개거래',\n",
       " '건축년도': '2021',\n",
       " '년': '2022',\n",
       " '법정동': '와촌동',\n",
       " '아파트': '천안역사동아라이크텐',\n",
       " '월': '12',\n",
       " '일': '19',\n",
       " '전용면적': '84.9864',\n",
       " '중개사소재지': '충남 천안서북구',\n",
       " '지번': '186',\n",
       " '지역코드': '44133',\n",
       " '층': '38',\n",
       " '해제사유발생일': '',\n",
       " '해제여부': ''}"
      ]
     },
     "execution_count": 24,
     "metadata": {},
     "output_type": "execute_result"
    }
   ],
   "source": [
    "import xml.etree.ElementTree as ET\n",
    "\n",
    "def find_xml_items(response):\n",
    "    root = ET.fromstring(response.content)\n",
    "    item_list = []\n",
    "    for child in root.find('body').find('items'):\n",
    "        elements = child.findall('*')\n",
    "        data = {}\n",
    "        for element in elements:\n",
    "            tag = element.tag.strip()\n",
    "            text = element.text.strip()\n",
    "            # print tag, text\n",
    "            data[tag] = text\n",
    "        item_list.append(data)  \n",
    "    return item_list\n",
    "    \n",
    "items_list = find_xml_items(response)\n",
    "items_list[1]"
   ]
  },
  {
   "cell_type": "markdown",
   "metadata": {},
   "source": [
    "##### 결과"
   ]
  },
  {
   "cell_type": "code",
   "execution_count": 25,
   "metadata": {},
   "outputs": [
    {
     "name": "stdout",
     "output_type": "stream",
     "text": [
      "(170, 15)\n"
     ]
    },
    {
     "data": {
      "text/html": [
       "<div>\n",
       "<style scoped>\n",
       "    .dataframe tbody tr th:only-of-type {\n",
       "        vertical-align: middle;\n",
       "    }\n",
       "\n",
       "    .dataframe tbody tr th {\n",
       "        vertical-align: top;\n",
       "    }\n",
       "\n",
       "    .dataframe thead th {\n",
       "        text-align: right;\n",
       "    }\n",
       "</style>\n",
       "<table border=\"1\" class=\"dataframe\">\n",
       "  <thead>\n",
       "    <tr style=\"text-align: right;\">\n",
       "      <th></th>\n",
       "      <th>거래금액</th>\n",
       "      <th>거래유형</th>\n",
       "      <th>건축년도</th>\n",
       "      <th>년</th>\n",
       "      <th>법정동</th>\n",
       "      <th>아파트</th>\n",
       "      <th>월</th>\n",
       "      <th>일</th>\n",
       "      <th>전용면적</th>\n",
       "      <th>중개사소재지</th>\n",
       "      <th>지번</th>\n",
       "      <th>지역코드</th>\n",
       "      <th>층</th>\n",
       "      <th>해제사유발생일</th>\n",
       "      <th>해제여부</th>\n",
       "    </tr>\n",
       "  </thead>\n",
       "  <tbody>\n",
       "    <tr>\n",
       "      <th>0</th>\n",
       "      <td>29,700</td>\n",
       "      <td>중개거래</td>\n",
       "      <td>2021</td>\n",
       "      <td>2022</td>\n",
       "      <td>와촌동</td>\n",
       "      <td>천안역사동아라이크텐</td>\n",
       "      <td>12</td>\n",
       "      <td>5</td>\n",
       "      <td>65.4418</td>\n",
       "      <td>충남 천안서북구</td>\n",
       "      <td>186</td>\n",
       "      <td>44133</td>\n",
       "      <td>11</td>\n",
       "      <td></td>\n",
       "      <td></td>\n",
       "    </tr>\n",
       "    <tr>\n",
       "      <th>1</th>\n",
       "      <td>41,000</td>\n",
       "      <td>중개거래</td>\n",
       "      <td>2021</td>\n",
       "      <td>2022</td>\n",
       "      <td>와촌동</td>\n",
       "      <td>천안역사동아라이크텐</td>\n",
       "      <td>12</td>\n",
       "      <td>19</td>\n",
       "      <td>84.9864</td>\n",
       "      <td>충남 천안서북구</td>\n",
       "      <td>186</td>\n",
       "      <td>44133</td>\n",
       "      <td>38</td>\n",
       "      <td></td>\n",
       "      <td></td>\n",
       "    </tr>\n",
       "    <tr>\n",
       "      <th>2</th>\n",
       "      <td>41,000</td>\n",
       "      <td>중개거래</td>\n",
       "      <td>2021</td>\n",
       "      <td>2022</td>\n",
       "      <td>와촌동</td>\n",
       "      <td>천안역사동아라이크텐</td>\n",
       "      <td>12</td>\n",
       "      <td>26</td>\n",
       "      <td>84.9864</td>\n",
       "      <td>충남 천안서북구</td>\n",
       "      <td>186</td>\n",
       "      <td>44133</td>\n",
       "      <td>38</td>\n",
       "      <td></td>\n",
       "      <td></td>\n",
       "    </tr>\n",
       "    <tr>\n",
       "      <th>3</th>\n",
       "      <td>15,200</td>\n",
       "      <td>중개거래</td>\n",
       "      <td>1990</td>\n",
       "      <td>2022</td>\n",
       "      <td>성정동</td>\n",
       "      <td>현대1</td>\n",
       "      <td>12</td>\n",
       "      <td>4</td>\n",
       "      <td>71.03</td>\n",
       "      <td>충남 천안서북구</td>\n",
       "      <td>413-13</td>\n",
       "      <td>44133</td>\n",
       "      <td>9</td>\n",
       "      <td></td>\n",
       "      <td></td>\n",
       "    </tr>\n",
       "    <tr>\n",
       "      <th>4</th>\n",
       "      <td>4,500</td>\n",
       "      <td>중개거래</td>\n",
       "      <td>2013</td>\n",
       "      <td>2022</td>\n",
       "      <td>성정동</td>\n",
       "      <td>평화로운나날</td>\n",
       "      <td>12</td>\n",
       "      <td>4</td>\n",
       "      <td>19.2875</td>\n",
       "      <td>충남 천안서북구</td>\n",
       "      <td>1347</td>\n",
       "      <td>44133</td>\n",
       "      <td>10</td>\n",
       "      <td></td>\n",
       "      <td></td>\n",
       "    </tr>\n",
       "  </tbody>\n",
       "</table>\n",
       "</div>"
      ],
      "text/plain": [
       "     거래금액  거래유형  건축년도     년  법정동         아파트   월   일     전용면적    중개사소재지  \\\n",
       "0  29,700  중개거래  2021  2022  와촌동  천안역사동아라이크텐  12   5  65.4418  충남 천안서북구   \n",
       "1  41,000  중개거래  2021  2022  와촌동  천안역사동아라이크텐  12  19  84.9864  충남 천안서북구   \n",
       "2  41,000  중개거래  2021  2022  와촌동  천안역사동아라이크텐  12  26  84.9864  충남 천안서북구   \n",
       "3  15,200  중개거래  1990  2022  성정동         현대1  12   4    71.03  충남 천안서북구   \n",
       "4   4,500  중개거래  2013  2022  성정동      평화로운나날  12   4  19.2875  충남 천안서북구   \n",
       "\n",
       "       지번   지역코드   층 해제사유발생일 해제여부  \n",
       "0     186  44133  11               \n",
       "1     186  44133  38               \n",
       "2     186  44133  38               \n",
       "3  413-13  44133   9               \n",
       "4    1347  44133  10               "
      ]
     },
     "execution_count": 25,
     "metadata": {},
     "output_type": "execute_result"
    }
   ],
   "source": [
    "result = pd.DataFrame(items_list)\n",
    "print(result.shape)\n",
    "result.head()"
   ]
  },
  {
   "cell_type": "code",
   "execution_count": 26,
   "metadata": {},
   "outputs": [
    {
     "data": {
      "text/plain": [
       "'서북구_202212'"
      ]
     },
     "execution_count": 26,
     "metadata": {},
     "output_type": "execute_result"
    }
   ],
   "source": [
    "name_info = in_lawd + \"_\" + in_deal_ymd\n",
    "name_info"
   ]
  },
  {
   "cell_type": "code",
   "execution_count": 27,
   "metadata": {
    "colab": {},
    "colab_type": "code",
    "id": "gd4ncwelWlRf",
    "outputId": "715f9091-b056-4ef0-88f6-15162c9fdb57"
   },
   "outputs": [
    {
     "data": {
      "text/plain": [
       "'data/result_서북구_202212.csv'"
      ]
     },
     "execution_count": 27,
     "metadata": {},
     "output_type": "execute_result"
    }
   ],
   "source": [
    "file_name = f\"data/result_{name_info}.csv\"\n",
    "file_name"
   ]
  },
  {
   "cell_type": "code",
   "execution_count": 28,
   "metadata": {
    "colab": {},
    "colab_type": "code",
    "id": "_ChXm5G6WlRk"
   },
   "outputs": [],
   "source": [
    "# 파일 저장\n",
    "# result.to_csv(file_name, index=False)"
   ]
  },
  {
   "cell_type": "markdown",
   "metadata": {},
   "source": [
    "##### 총 정리 함수"
   ]
  },
  {
   "cell_type": "code",
   "execution_count": 29,
   "metadata": {},
   "outputs": [],
   "source": [
    "# 위를 총 정리하여 함수로 생성\n",
    "\n",
    "def deal_by_lawd(cd, ymd):\n",
    "    \n",
    "    svckey = \"fq448BTENSGVmu47zvzjDudVK1LUOPdIONYmOk774uKTYukGYTIZdMjVIURNLrwHFbDrRgCZRXehyB%2FR2YxQ5A%3D%3D\"\n",
    "    \n",
    "    area_cd = \"LAWD_CD=\" + cd\n",
    "    deal_dt = \"DEAL_YMD=\" + ymd\n",
    "    svc_key = \"serviceKey=\" + svckey\n",
    "    url = base_url + \"?\" + area_cd + \"&\" + deal_dt + \"&\" + svc_key\n",
    "\n",
    "\n",
    "    response = requests.get(url)\n",
    "    items_list = find_xml_items(response)\n",
    "    result = pd.DataFrame(items_list)\n",
    "    \n",
    "    name_info = in_lawd + \"_\" + in_deal_ymd\n",
    "    file_name = f\"data/{name_info}.csv\"\n",
    "\n",
    "    result.to_csv(file_name, encoding='cp949', index=False)\n",
    "    \n",
    "    return file_name"
   ]
  },
  {
   "cell_type": "code",
   "execution_count": 30,
   "metadata": {},
   "outputs": [
    {
     "name": "stdout",
     "output_type": "stream",
     "text": [
      "검색지역 입력 : 수지구\n",
      "수지구\n",
      "41465\n",
      "계약월 입력(예: 201911) : 202212\n",
      "202212\n"
     ]
    }
   ],
   "source": [
    "#### - Input Data : LAWD_CD, DEAL_YMD, serviceKey  입력받기\n",
    "in_lawd = input(\"검색지역 입력 : \")\n",
    "print(in_lawd)\n",
    "\n",
    "in_lawd_cd = find_lawd_cd(in_lawd)\n",
    "print(in_lawd_cd)\n",
    "\n",
    "in_deal_ymd = input(\"계약월 입력(예: 201911) : \")\n",
    "print(in_deal_ymd)"
   ]
  },
  {
   "cell_type": "code",
   "execution_count": 31,
   "metadata": {},
   "outputs": [
    {
     "data": {
      "text/plain": [
       "'data/수지구_202212.csv'"
      ]
     },
     "execution_count": 31,
     "metadata": {},
     "output_type": "execute_result"
    }
   ],
   "source": [
    "deal_by_lawd(in_lawd_cd, in_deal_ymd)"
   ]
  },
  {
   "cell_type": "code",
   "execution_count": 32,
   "metadata": {},
   "outputs": [
    {
     "data": {
      "text/html": [
       "<div>\n",
       "<style scoped>\n",
       "    .dataframe tbody tr th:only-of-type {\n",
       "        vertical-align: middle;\n",
       "    }\n",
       "\n",
       "    .dataframe tbody tr th {\n",
       "        vertical-align: top;\n",
       "    }\n",
       "\n",
       "    .dataframe thead th {\n",
       "        text-align: right;\n",
       "    }\n",
       "</style>\n",
       "<table border=\"1\" class=\"dataframe\">\n",
       "  <thead>\n",
       "    <tr style=\"text-align: right;\">\n",
       "      <th></th>\n",
       "      <th>거래금액</th>\n",
       "      <th>거래유형</th>\n",
       "      <th>건축년도</th>\n",
       "      <th>년</th>\n",
       "      <th>법정동</th>\n",
       "      <th>아파트</th>\n",
       "      <th>월</th>\n",
       "      <th>일</th>\n",
       "      <th>전용면적</th>\n",
       "      <th>중개사소재지</th>\n",
       "      <th>지번</th>\n",
       "      <th>지역코드</th>\n",
       "      <th>층</th>\n",
       "      <th>해제사유발생일</th>\n",
       "      <th>해제여부</th>\n",
       "    </tr>\n",
       "  </thead>\n",
       "  <tbody>\n",
       "    <tr>\n",
       "      <th>0</th>\n",
       "      <td>59,000</td>\n",
       "      <td>직거래</td>\n",
       "      <td>1999</td>\n",
       "      <td>2022</td>\n",
       "      <td>풍덕천동</td>\n",
       "      <td>현대성우8차</td>\n",
       "      <td>12</td>\n",
       "      <td>5</td>\n",
       "      <td>59.990</td>\n",
       "      <td>NaN</td>\n",
       "      <td>1112</td>\n",
       "      <td>41465</td>\n",
       "      <td>19</td>\n",
       "      <td>NaN</td>\n",
       "      <td>NaN</td>\n",
       "    </tr>\n",
       "    <tr>\n",
       "      <th>1</th>\n",
       "      <td>63,000</td>\n",
       "      <td>중개거래</td>\n",
       "      <td>2000</td>\n",
       "      <td>2022</td>\n",
       "      <td>풍덕천동</td>\n",
       "      <td>신정마을우성</td>\n",
       "      <td>12</td>\n",
       "      <td>7</td>\n",
       "      <td>84.900</td>\n",
       "      <td>경기 용인수지구</td>\n",
       "      <td>1025</td>\n",
       "      <td>41465</td>\n",
       "      <td>5</td>\n",
       "      <td>NaN</td>\n",
       "      <td>NaN</td>\n",
       "    </tr>\n",
       "    <tr>\n",
       "      <th>2</th>\n",
       "      <td>70,500</td>\n",
       "      <td>중개거래</td>\n",
       "      <td>2000</td>\n",
       "      <td>2022</td>\n",
       "      <td>풍덕천동</td>\n",
       "      <td>신정마을주공1</td>\n",
       "      <td>12</td>\n",
       "      <td>14</td>\n",
       "      <td>59.390</td>\n",
       "      <td>경기 용인수지구</td>\n",
       "      <td>1065</td>\n",
       "      <td>41465</td>\n",
       "      <td>7</td>\n",
       "      <td>NaN</td>\n",
       "      <td>NaN</td>\n",
       "    </tr>\n",
       "    <tr>\n",
       "      <th>3</th>\n",
       "      <td>85,000</td>\n",
       "      <td>중개거래</td>\n",
       "      <td>2015</td>\n",
       "      <td>2022</td>\n",
       "      <td>풍덕천동</td>\n",
       "      <td>래미안수지이스트파크</td>\n",
       "      <td>12</td>\n",
       "      <td>14</td>\n",
       "      <td>84.980</td>\n",
       "      <td>경기 용인수지구</td>\n",
       "      <td>1198</td>\n",
       "      <td>41465</td>\n",
       "      <td>8</td>\n",
       "      <td>NaN</td>\n",
       "      <td>NaN</td>\n",
       "    </tr>\n",
       "    <tr>\n",
       "      <th>4</th>\n",
       "      <td>108,500</td>\n",
       "      <td>직거래</td>\n",
       "      <td>2017</td>\n",
       "      <td>2022</td>\n",
       "      <td>풍덕천동</td>\n",
       "      <td>e편한세상수지</td>\n",
       "      <td>12</td>\n",
       "      <td>23</td>\n",
       "      <td>84.921</td>\n",
       "      <td>NaN</td>\n",
       "      <td>1209</td>\n",
       "      <td>41465</td>\n",
       "      <td>24</td>\n",
       "      <td>NaN</td>\n",
       "      <td>NaN</td>\n",
       "    </tr>\n",
       "  </tbody>\n",
       "</table>\n",
       "</div>"
      ],
      "text/plain": [
       "      거래금액  거래유형  건축년도     년   법정동         아파트   월   일    전용면적    중개사소재지  \\\n",
       "0   59,000   직거래  1999  2022  풍덕천동      현대성우8차  12   5  59.990       NaN   \n",
       "1   63,000  중개거래  2000  2022  풍덕천동      신정마을우성  12   7  84.900  경기 용인수지구   \n",
       "2   70,500  중개거래  2000  2022  풍덕천동     신정마을주공1  12  14  59.390  경기 용인수지구   \n",
       "3   85,000  중개거래  2015  2022  풍덕천동  래미안수지이스트파크  12  14  84.980  경기 용인수지구   \n",
       "4  108,500   직거래  2017  2022  풍덕천동     e편한세상수지  12  23  84.921       NaN   \n",
       "\n",
       "     지번   지역코드   층 해제사유발생일 해제여부  \n",
       "0  1112  41465  19     NaN  NaN  \n",
       "1  1025  41465   5     NaN  NaN  \n",
       "2  1065  41465   7     NaN  NaN  \n",
       "3  1198  41465   8     NaN  NaN  \n",
       "4  1209  41465  24     NaN  NaN  "
      ]
     },
     "execution_count": 32,
     "metadata": {},
     "output_type": "execute_result"
    }
   ],
   "source": [
    "pd.read_csv('./data/수지구_202212.csv', encoding ='cp949').head()"
   ]
  }
 ],
 "metadata": {
  "kernelspec": {
   "display_name": "Python 3 (ipykernel)",
   "language": "python",
   "name": "python3"
  },
  "language_info": {
   "codemirror_mode": {
    "name": "ipython",
    "version": 3
   },
   "file_extension": ".py",
   "mimetype": "text/x-python",
   "name": "python",
   "nbconvert_exporter": "python",
   "pygments_lexer": "ipython3",
   "version": "3.8.12"
  }
 },
 "nbformat": 4,
 "nbformat_minor": 4
}
