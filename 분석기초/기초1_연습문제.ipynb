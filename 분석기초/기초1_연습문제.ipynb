{
 "cells": [
  {
   "cell_type": "markdown",
   "metadata": {},
   "source": [
    "### 파이썬 자료형 종류 리뷰\n",
    "\n",
    "1) 숫자형\n",
    "  - 1, 2, 3, 0, -1, -5, 3.14 \n",
    "  \n",
    "2) Boolean\n",
    "  - True, False\n",
    "  \n",
    "3) 문자열\n",
    "  - \"Hello\", \"메가IT\", '빅데이터'\n",
    "\n",
    "4) 리스트 List\n",
    "  - [], [1,3,5], [\"홍\", \"길\", \"동\"]\n",
    "\n",
    "5) 튜플 Tuple\n",
    "  - (), (1,3,5)\n",
    "\n",
    "6) 사전 Dictionary\n",
    "  - {key1 : value1}, {\"이름\":\"서현경\", \"성별\":\"남자\"}\n",
    "\n",
    "7) 집합 Set\n",
    "  - {}, set([1,3,5]), set(\"Hello\")\n",
    " "
   ]
  },
  {
   "cell_type": "markdown",
   "metadata": {},
   "source": [
    "  "
   ]
  },
  {
   "cell_type": "markdown",
   "metadata": {
    "colab_type": "text",
    "id": "8yQ1RfQ8CTv5"
   },
   "source": [
    "### (1) 다음과 같은 기능을 하는 코드를 작성해보세요\n",
    "\n",
    "1. 루프를 1부터 10까지 반복합니다. ( i에는 1부터 10까지의 값이 반복해서 들어갑니다 )\n",
    "1. i를 그대로 출력하지 않고, 두 배로 늘려서 출력합니다. (```i * 2```)\n",
    "1. 반복문 안에서 출력하지 않고, **반복문 안에서 값을 모아뒀다가 반복문이 끝나면 밖에서 출력합니다.** 이를 위해서는 빈 리스트를 만든 뒤(```double_list = []```), 리스트의 ```.append``` 기능을 사용해서 값을 집어넣습니다.\n",
    "1. 여기서 i가 5일 경우는 반복을 한 번만 skip하고 다음 반복(i가 6일 경우)을 재시작합니다.\n",
    "1. 그리고 i가 8일 경우는 반복문을 강제로 종료시킵니다.\n"
   ]
  },
  {
   "cell_type": "code",
   "execution_count": 1,
   "metadata": {},
   "outputs": [
    {
     "data": {
      "text/plain": [
       "[2, 4, 6, 8, 12, 14]"
      ]
     },
     "execution_count": 1,
     "metadata": {},
     "output_type": "execute_result"
    }
   ],
   "source": [
    "# double_list라는 변수에 빈 리스트를 하나 할당합니다.\n",
    "double_list = []\n",
    "\n",
    "# 1) 1부터 10까지 루프를 반복합니다.\n",
    "for i in range(1, 11):\n",
    "    # 4) i가 5이면 현재 루프를 skip하고 다음 루프(i가 6인 경우)를 실행합니다.\n",
    "    if i == 5:\n",
    "        continue\n",
    "    \n",
    "    # 5) i가 8이면 반복문을 강제로 종료시킵니다.\n",
    "    if i == 8:\n",
    "        break\n",
    "    \n",
    "    # 2)  i 값에 2를 곱한 뒤, 그 결과를 double이라는 이름의 변수에 할당합니다.\n",
    "    double = i * 2\n",
    "    \n",
    "    # 3) doublie_list에 double 변수에 들어있는 값을 할당합니다.\n",
    "    double_list.append(double)\n",
    "\n",
    "# 3) 반복문이 끝난 다음의 결과를 모두 출력합니다.\n",
    "double_list"
   ]
  },
  {
   "cell_type": "markdown",
   "metadata": {},
   "source": [
    "  "
   ]
  },
  {
   "cell_type": "markdown",
   "metadata": {},
   "source": [
    "### (2) 점수 채점하기\n",
    "\n",
    " - 총 12명의 레벨테스트 점수가 파이썬의 리스트(List)로 담겨져 있고,\n",
    " - 이를 score라는 이름의 변수에 할당하였습니다.\n",
    "\n",
    "score = [80, 60, 70, 50, 100, 95, 40, 75, 90, 65, 90, 100]\n",
    "이 score 변수에 담겨져 있는 값을 활용하여 아래 문제를 풀어보세요.\n",
    "\n",
    " - 전체 점수의 평균을 구하는 코드를 작성해보세요.\n",
    " - 전체 점수 중 가장 높은 점수를 구하는 코드를 작성해보세요.\n",
    " - 전체 점수 중 가장 낮은 점수를 구하는 코드를 작성해보세요.\n"
   ]
  },
  {
   "cell_type": "markdown",
   "metadata": {},
   "source": [
    "평균의 공식 :\n",
    "https://ko.wikipedia.org/wiki/%ED%8F%89%EA%B7%A0"
   ]
  },
  {
   "cell_type": "code",
   "execution_count": 2,
   "metadata": {},
   "outputs": [],
   "source": [
    "score = [80, 60, 70, 50, 100, 95, 40, 75, 90, 65, 90, 100]"
   ]
  },
  {
   "cell_type": "code",
   "execution_count": 3,
   "metadata": {},
   "outputs": [
    {
     "name": "stdout",
     "output_type": "stream",
     "text": [
      "1 80 80\n",
      "2 60 140\n",
      "3 70 210\n",
      "4 50 260\n",
      "5 100 360\n",
      "6 95 455\n",
      "7 40 495\n",
      "8 75 570\n",
      "9 90 660\n",
      "10 65 725\n",
      "11 90 815\n",
      "12 100 915\n",
      "평균값 :  76.25\n"
     ]
    }
   ],
   "source": [
    "### 방법1\n",
    "count = 0\n",
    "total = 0\n",
    "\n",
    "for i in score:\n",
    "    count = count + 1\n",
    "    total = total + i\n",
    "    print(count, i, total)\n",
    "    \n",
    "print(\"평균값 : \", total / count )    "
   ]
  },
  {
   "cell_type": "code",
   "execution_count": 4,
   "metadata": {},
   "outputs": [
    {
     "data": {
      "text/plain": [
       "12"
      ]
     },
     "execution_count": 4,
     "metadata": {},
     "output_type": "execute_result"
    }
   ],
   "source": [
    "#len() : 데이터 길이\n",
    "len(score)"
   ]
  },
  {
   "cell_type": "code",
   "execution_count": 5,
   "metadata": {},
   "outputs": [
    {
     "data": {
      "text/plain": [
       "[40, 50, 60, 65, 70, 75, 80, 90, 90, 95, 100, 100]"
      ]
     },
     "execution_count": 5,
     "metadata": {},
     "output_type": "execute_result"
    }
   ],
   "source": [
    "score.sort()\n",
    "score"
   ]
  },
  {
   "cell_type": "code",
   "execution_count": 6,
   "metadata": {},
   "outputs": [
    {
     "name": "stdout",
     "output_type": "stream",
     "text": [
      "최소값 : 40 최대값 : 100\n"
     ]
    }
   ],
   "source": [
    "print(\"최소값 :\", score[0], \"최대값 :\",score[-1])"
   ]
  },
  {
   "cell_type": "code",
   "execution_count": 7,
   "metadata": {},
   "outputs": [
    {
     "name": "stdout",
     "output_type": "stream",
     "text": [
      "최소값 : 40 최대값 : 100\n",
      "최소값 : 40 최대값 : 100\n"
     ]
    }
   ],
   "source": [
    "#또는\n",
    "print(\"최소값 : {} 최대값 : {}\".format(min(score),max(score)))\n",
    "\n",
    "\n",
    "print(f\"최소값 : {min(score)} 최대값 : {max(score)}\")"
   ]
  },
  {
   "cell_type": "code",
   "execution_count": 8,
   "metadata": {},
   "outputs": [
    {
     "name": "stdout",
     "output_type": "stream",
     "text": [
      "76.25\n"
     ]
    }
   ],
   "source": [
    "### 방법2\n",
    "len(score)\n",
    "\n",
    "Score_mean = sum(score) / len(score)\n",
    "\n",
    "print(Score_mean)"
   ]
  },
  {
   "cell_type": "code",
   "execution_count": 9,
   "metadata": {},
   "outputs": [
    {
     "data": {
      "text/html": [
       "<div>\n",
       "<style scoped>\n",
       "    .dataframe tbody tr th:only-of-type {\n",
       "        vertical-align: middle;\n",
       "    }\n",
       "\n",
       "    .dataframe tbody tr th {\n",
       "        vertical-align: top;\n",
       "    }\n",
       "\n",
       "    .dataframe thead th {\n",
       "        text-align: right;\n",
       "    }\n",
       "</style>\n",
       "<table border=\"1\" class=\"dataframe\">\n",
       "  <thead>\n",
       "    <tr style=\"text-align: right;\">\n",
       "      <th></th>\n",
       "      <th>0</th>\n",
       "    </tr>\n",
       "  </thead>\n",
       "  <tbody>\n",
       "    <tr>\n",
       "      <th>count</th>\n",
       "      <td>12.000000</td>\n",
       "    </tr>\n",
       "    <tr>\n",
       "      <th>mean</th>\n",
       "      <td>76.250000</td>\n",
       "    </tr>\n",
       "    <tr>\n",
       "      <th>std</th>\n",
       "      <td>19.785785</td>\n",
       "    </tr>\n",
       "    <tr>\n",
       "      <th>min</th>\n",
       "      <td>40.000000</td>\n",
       "    </tr>\n",
       "    <tr>\n",
       "      <th>25%</th>\n",
       "      <td>63.750000</td>\n",
       "    </tr>\n",
       "    <tr>\n",
       "      <th>50%</th>\n",
       "      <td>77.500000</td>\n",
       "    </tr>\n",
       "    <tr>\n",
       "      <th>75%</th>\n",
       "      <td>91.250000</td>\n",
       "    </tr>\n",
       "    <tr>\n",
       "      <th>max</th>\n",
       "      <td>100.000000</td>\n",
       "    </tr>\n",
       "  </tbody>\n",
       "</table>\n",
       "</div>"
      ],
      "text/plain": [
       "                0\n",
       "count   12.000000\n",
       "mean    76.250000\n",
       "std     19.785785\n",
       "min     40.000000\n",
       "25%     63.750000\n",
       "50%     77.500000\n",
       "75%     91.250000\n",
       "max    100.000000"
      ]
     },
     "execution_count": 9,
     "metadata": {},
     "output_type": "execute_result"
    }
   ],
   "source": [
    "### 방법3\n",
    "import pandas as pd\n",
    "pd.DataFrame(score).describe()"
   ]
  },
  {
   "cell_type": "markdown",
   "metadata": {},
   "source": [
    " "
   ]
  },
  {
   "cell_type": "markdown",
   "metadata": {
    "colab_type": "text",
    "id": "uVKQbKr8POp1"
   },
   "source": [
    "### (3) 함수 - 팩토리얼\n",
    "\n",
    "수학 팩토리얼입니다. 기억이 나지 않는 분들을 위해 예시를 들자면\n",
    "\n",
    "  * 3! = 3 x 2 x 1 = 6\n",
    "  * 4! = 4 x 3 x 2 x 1 = 24\n",
    "  * 5! = 5 x 4 x 3 x 2 x 1 = 120\n",
    "  \n",
    "와 같이 동작합니다. 파이썬에서는 간단한 몇 줄의 코드만으로 팩토리얼을 구현할 수 있습니다."
   ]
  },
  {
   "cell_type": "code",
   "execution_count": 10,
   "metadata": {},
   "outputs": [],
   "source": [
    "def fac(n):\n",
    "    result = 1        # 결과를 저장할 result 값 초기화 (곱셈이므로 1 선언)\n",
    "    for i in range(1, n + 1):  # factorial 규칙에 따라, 1부터 입력값까지 곱셈\n",
    "        result = result * i\n",
    "#         print(i,result) #중간과정\n",
    "    \n",
    "    return result"
   ]
  },
  {
   "cell_type": "code",
   "execution_count": 11,
   "metadata": {},
   "outputs": [
    {
     "name": "stdout",
     "output_type": "stream",
     "text": [
      "4! =  24\n",
      "6! =  720\n"
     ]
    }
   ],
   "source": [
    "print(\"4! = \", fac(4))\n",
    "print(\"6! = \", fac(6))"
   ]
  },
  {
   "cell_type": "code",
   "execution_count": 12,
   "metadata": {},
   "outputs": [
    {
     "name": "stdout",
     "output_type": "stream",
     "text": [
      "3\n",
      "2\n",
      "6\n",
      "==========\n",
      "4\n",
      "3\n",
      "2\n",
      "24\n",
      "==========\n",
      "5\n",
      "4\n",
      "3\n",
      "2\n",
      "120\n"
     ]
    }
   ],
   "source": [
    "# 또는 다른 방법 :\n",
    "\n",
    "# factorial이라는 이름의 함수를 만듭니다. 인자로 n을 받습니다.\n",
    "def factorial(n):\n",
    "    # n이 1일 경우 1을 반환합니다.\n",
    "    if n == 1:\n",
    "        return 1\n",
    "    # n이 1이 아닐 경우, n과 factorial(n - 1)의 결과값을 곱합니다.\n",
    "    # factorial 함수 안에서 factorial을 다시 한 번 호출하는 것이 포인트입니다.\n",
    "    else:\n",
    "        print(n)\n",
    "        return n * factorial(n - 1)\n",
    "\n",
    "# 팩토리얼 3, 4, 5를 계산합니다.\n",
    "print(factorial(3))\n",
    "print(\"==========\")\n",
    "print(factorial(4))\n",
    "print(\"==========\")\n",
    "print(factorial(5))"
   ]
  },
  {
   "cell_type": "markdown",
   "metadata": {},
   "source": [
    "]"
   ]
  },
  {
   "cell_type": "markdown",
   "metadata": {
    "colab_type": "text",
    "id": "DyifZuUyPOp4"
   },
   "source": [
    "### (4) 함수 - 369 게임\n",
    "\n",
    "다음은 369게임입니다. 369게임은 다음과 같습니다.\n",
    "\n",
    "1. 1부터 시작해 숫자를 하나씩 센다.\n",
    "2. 숫자에 3이나 6이나 9 배수일 경우 박수(clap)를 친다.\n",
    "3. 지정한 최대 숫자까지 도달하면 프로그램을 종료한다.\n"
   ]
  },
  {
   "cell_type": "code",
   "execution_count": 13,
   "metadata": {},
   "outputs": [],
   "source": [
    "def game369(n):\n",
    "    for i in range(1, n + 1):\n",
    "        if i % 3 == 0:\n",
    "            print(\"clap\")\n",
    "        elif i % 6 == 0:\n",
    "            print(\"clap\")\n",
    "        elif i % 9 == 0:\n",
    "            print(\"clap\")\n",
    "        else:\n",
    "            print(i)        "
   ]
  },
  {
   "cell_type": "code",
   "execution_count": 14,
   "metadata": {},
   "outputs": [
    {
     "name": "stdout",
     "output_type": "stream",
     "text": [
      "1\n",
      "2\n",
      "clap\n",
      "4\n",
      "5\n",
      "clap\n",
      "7\n",
      "8\n",
      "clap\n",
      "10\n"
     ]
    }
   ],
   "source": [
    "game369(10)"
   ]
  },
  {
   "cell_type": "code",
   "execution_count": 15,
   "metadata": {},
   "outputs": [
    {
     "name": "stdout",
     "output_type": "stream",
     "text": [
      "1\n",
      "2\n",
      "clap!\n",
      "4\n",
      "5\n",
      "clap!\n",
      "7\n",
      "8\n",
      "clap!\n",
      "10\n"
     ]
    }
   ],
   "source": [
    "# 또는 다른 방법 :\n",
    "\n",
    "def game369(finish):\n",
    "    # 1부터 finish까지 반복을 돌며, 매 번 반복하는 값을 n이라는 이름의 변수에 할당합니다.\n",
    "    for n in range(1, finish + 1):\n",
    "        # 여기가 이 프로그램의 핵심입니다. n을 문자열(텍스트)로 변환합니다.\n",
    "        # 가령 3은 \"3\"으로, 33은 \"33\"으로 변환합니다.\n",
    "        n_text = str(n)\n",
    "\n",
    "        # 텍스트로 된 n에 3이나 6이나 9가 있는지 체크합니다.\n",
    "        if \"3\" in n_text or \"6\" in n_text or \"9\" in n_text:\n",
    "            # 3, 6, 9가 있으면 박수를 칩니다.\n",
    "            print(\"clap!\")\n",
    "        else:\n",
    "            # 3, 6, 9가 없으면 숫자를 그대로 출력합니다.\n",
    "            print(n)\n",
    "\n",
    "# 1번부터 100번까지 369게임을 실행합니다.\n",
    "game369(10)"
   ]
  },
  {
   "cell_type": "code",
   "execution_count": 16,
   "metadata": {},
   "outputs": [
    {
     "name": "stdout",
     "output_type": "stream",
     "text": [
      "1\n",
      "2\n",
      "clap!\n",
      "4\n",
      "5\n",
      "clap!\n",
      "7\n",
      "8\n",
      "clap!\n",
      "10\n",
      "11\n",
      "12\n",
      "clap!\n",
      "14\n",
      "15\n",
      "clap!\n",
      "17\n",
      "18\n",
      "clap!\n",
      "20\n",
      "21\n",
      "22\n",
      "clap!\n",
      "24\n",
      "25\n",
      "clap!\n",
      "27\n",
      "28\n",
      "clap!\n",
      "clap!\n",
      "clap!\n",
      "clap!\n",
      "clap!\n",
      "clap!\n",
      "clap!\n",
      "clap!\n",
      "clap!\n",
      "clap!\n",
      "clap!\n",
      "40\n"
     ]
    }
   ],
   "source": [
    "game369(40)"
   ]
  },
  {
   "cell_type": "markdown",
   "metadata": {},
   "source": [
    "  "
   ]
  },
  {
   "cell_type": "markdown",
   "metadata": {
    "colab_type": "text",
    "id": "4tEyihdWPOp3"
   },
   "source": [
    "### (5) 3n + 1 콜라츠 추측\n",
    "\n",
    "3n + 1 문제는 다음과 같습니다.\n",
    "\n",
    "  * n이 홀수면 3을 곱한 뒤 1을 더하고\n",
    "  * n이 짝수면 2로 나눕니다.\n",
    "  * 마지막으로 n이 1이 되면 프로그램을 종료합니다.\n",
    "\n",
    "이 문제 역시 재귀 함수를 사용하면 간단하게 풀 수 있습니다."
   ]
  },
  {
   "cell_type": "markdown",
   "metadata": {},
   "source": [
    "https://m.blog.naver.com/PostView.naver?isHttpsRedirect=true&blogId=inwook28&logNo=221622650947"
   ]
  },
  {
   "cell_type": "markdown",
   "metadata": {},
   "source": [
    "**산식**\n",
    "\n",
    "    f(x) = n/2 (if n is even)\n",
    "         = 3n+1 (if n is odd)"
   ]
  },
  {
   "cell_type": "code",
   "execution_count": 17,
   "metadata": {
    "colab": {},
    "colab_type": "code",
    "id": "x4_zsBlSPOp3",
    "outputId": "56959b06-84c2-425c-839d-9274130369b9"
   },
   "outputs": [
    {
     "name": "stdout",
     "output_type": "stream",
     "text": [
      "[1]\n",
      "[2, 1]\n",
      "[3, 10, 5.0, 16.0, 8.0, 4.0, 2.0, 1]\n",
      "[4, 2.0, 1]\n",
      "[5, 16, 8.0, 4.0, 2.0, 1]\n"
     ]
    }
   ],
   "source": [
    "# cycle이라는 이름의 함수를 만듭니다. 인자로 n을 받습니다.\n",
    "def cycle(n):\n",
    "    # n이 1이면 1이 하나 들어간 리스트를 반환합니다.\n",
    "    if n == 1:\n",
    "        return [1]\n",
    "\n",
    "    # n이 짝수이면 n이 하나 들어간 리스트와, cycle(n / 2)의 결과값을 더해서 반환합니다.\n",
    "    if n % 2 == 0:\n",
    "        return [n] + cycle(n / 2)\n",
    "    # n이 홀수이면 n이 하나 들어간 리스트와, cycle(3 * n + 1)의 결과값을 더해서 반환합니다.\n",
    "    else:\n",
    "        return [n] + cycle(3 * n + 1)\n",
    "    \n",
    "# 1번부터 5번까지 3n + 1 문제를 실행합니다.\n",
    "print(cycle(1))\n",
    "print(cycle(2))\n",
    "print(cycle(3))\n",
    "print(cycle(4))\n",
    "print(cycle(5))"
   ]
  },
  {
   "cell_type": "code",
   "execution_count": 18,
   "metadata": {},
   "outputs": [
    {
     "name": "stdout",
     "output_type": "stream",
     "text": [
      "[27, 82, 41.0, 124.0, 62.0, 31.0, 94.0, 47.0, 142.0, 71.0, 214.0, 107.0, 322.0, 161.0, 484.0, 242.0, 121.0, 364.0, 182.0, 91.0, 274.0, 137.0, 412.0, 206.0, 103.0, 310.0, 155.0, 466.0, 233.0, 700.0, 350.0, 175.0, 526.0, 263.0, 790.0, 395.0, 1186.0, 593.0, 1780.0, 890.0, 445.0, 1336.0, 668.0, 334.0, 167.0, 502.0, 251.0, 754.0, 377.0, 1132.0, 566.0, 283.0, 850.0, 425.0, 1276.0, 638.0, 319.0, 958.0, 479.0, 1438.0, 719.0, 2158.0, 1079.0, 3238.0, 1619.0, 4858.0, 2429.0, 7288.0, 3644.0, 1822.0, 911.0, 2734.0, 1367.0, 4102.0, 2051.0, 6154.0, 3077.0, 9232.0, 4616.0, 2308.0, 1154.0, 577.0, 1732.0, 866.0, 433.0, 1300.0, 650.0, 325.0, 976.0, 488.0, 244.0, 122.0, 61.0, 184.0, 92.0, 46.0, 23.0, 70.0, 35.0, 106.0, 53.0, 160.0, 80.0, 40.0, 20.0, 10.0, 5.0, 16.0, 8.0, 4.0, 2.0, 1]\n"
     ]
    }
   ],
   "source": [
    "print(cycle(27))"
   ]
  },
  {
   "cell_type": "code",
   "execution_count": 19,
   "metadata": {},
   "outputs": [
    {
     "data": {
      "text/plain": [
       "112"
      ]
     },
     "execution_count": 19,
     "metadata": {},
     "output_type": "execute_result"
    }
   ],
   "source": [
    "len(cycle(27))"
   ]
  }
 ],
 "metadata": {
  "kernelspec": {
   "display_name": "Python 3 (ipykernel)",
   "language": "python",
   "name": "python3"
  },
  "language_info": {
   "codemirror_mode": {
    "name": "ipython",
    "version": 3
   },
   "file_extension": ".py",
   "mimetype": "text/x-python",
   "name": "python",
   "nbconvert_exporter": "python",
   "pygments_lexer": "ipython3",
   "version": "3.8.12"
  }
 },
 "nbformat": 4,
 "nbformat_minor": 4
}
